{
 "cells": [
  {
   "cell_type": "code",
   "execution_count": 9,
   "metadata": {},
   "outputs": [
    {
     "name": "stdout",
     "output_type": "stream",
     "text": [
      "1\n",
      "3 1\n",
      "0 1 2 \n"
     ]
    }
   ],
   "source": [
    "#HackerRank - Absolute Permutation\n",
    "def absolutePermuation(n,k):\n",
    "    numbers=[0 for i in range(n+1)]\n",
    "    aux_arr=[0 for i in range(n+1)]\n",
    "    #print(aux_arr)\n",
    "    not_possible=0\n",
    "    for j in range(1,n+1):\n",
    "        numbers[j]=j\n",
    "    #print(numbers)\n",
    "    for i in range(1,n+1):\n",
    "        if((numbers[i]+k)<=n):\n",
    "            aux_arr[i]=numbers[i]+k\n",
    "        if(abs(numbers[i]-k)<=n):\n",
    "            aux_arr[i]=numbers[i]-k\n",
    "        elif((numbers[i]+k)>n):\n",
    "            diff=abs(n-(numbers[i]+k))\n",
    "            if(diff+k==numbers[i]):\n",
    "                aux_arr[i]=diff\n",
    "            else:\n",
    "                not_possible+=1\n",
    "                break\n",
    "        \n",
    "    if(not_possible==0):\n",
    "        \n",
    "        return aux_arr\n",
    "    else:\n",
    "        return -1\n",
    "answers=[]\n",
    "t=int(input())\n",
    "for i in range(t):\n",
    "    holder=list(int(i) for i in input().strip().split(' ')) \n",
    "    n=holder[0]\n",
    "    k=holder[1]\n",
    "    answers.append(absolutePermuation(n,k))\n",
    "for j in answers:\n",
    "    if(type(j)==list):\n",
    "        for k in range(1,len(j)):\n",
    "            print(j[k],end=' ')\n",
    "        print()\n",
    "    else:\n",
    "        print(j)"
   ]
  },
  {
   "cell_type": "code",
   "execution_count": 139,
   "metadata": {},
   "outputs": [
    {
     "name": "stdout",
     "output_type": "stream",
     "text": [
      "10 1\n",
      "numbers  [0, 1, 2, 3, 4, 5, 6, 7, 8, 9, 10]\n",
      "aux_pref  [0, 0, 3, 4, 5, 6, 7, 8, 9, 10, 0]\n",
      "aux_suff  [0, 0, 1, 2, 3, 4, 5, 6, 7, 8, 0]\n",
      "chosen 3\n",
      "chosen 3\n",
      "chosen 5\n",
      "chosen 5\n",
      "chosen 7\n",
      "chosen 7\n",
      "chosen 9\n",
      "chosen 9\n",
      "visited  [False, True, False, True, False, True, False, True, False, True, True]\n"
     ]
    },
    {
     "data": {
      "text/plain": [
       "[0, 11, 3, None, 5, None, 7, None, 9, None, 9]"
      ]
     },
     "execution_count": 139,
     "metadata": {},
     "output_type": "execute_result"
    }
   ],
   "source": [
    "\n",
    "def isValid(prefix,suffix,n,k,visited):\n",
    "    chosen=min(prefix,suffix)\n",
    "    \n",
    "    \n",
    "\n",
    "def absolutePermutation(n,k,visited):\n",
    "    numbers=[0 for i in range(n+1)]\n",
    "    aux_pref=[0 for i in range(n+1)]\n",
    "    aux_suff=[0 for i in range(n+1)]\n",
    "    final_arr=[0 for i in range(n+1)]\n",
    "    \n",
    "    for i in range(1,n+1):\n",
    "        numbers[i]=i\n",
    "    final_arr[1]=numbers[i]+k\n",
    "    final_arr[n]=numbers[i]-k\n",
    "    \n",
    "    visited[1]=True\n",
    "    visited[n]=True\n",
    "    print('numbers ',numbers)\n",
    "    for i in range(2,n):\n",
    "        aux_pref[i]=numbers[i]+k\n",
    "    print('aux_pref ',aux_pref)\n",
    "    for j in range(2,n):\n",
    "        aux_suff[j]=abs(numbers[j]-k)\n",
    "    print('aux_suff ',aux_suff)\n",
    "    for i in range(2,n):\n",
    "        hold=isValid(aux_pref[i],aux_suff[i],n,k,visited)\n",
    "        if(hold!=-1):\n",
    "            final_arr[i]=hold\n",
    "        else:\n",
    "            return -1\n",
    "            break\n",
    "    print('visited ',visited)\n",
    "    return final_arr\n",
    "holder=list(int(i) for i in input().strip().split(' '))\n",
    "n=holder[0]\n",
    "k=holder[1]\n",
    "visited=[False for i in range(n+1)]    \n",
    "absolutePermutation(n,k,visited)    "
   ]
  },
  {
   "cell_type": "code",
   "execution_count": 142,
   "metadata": {},
   "outputs": [
    {
     "data": {
      "text/plain": [
       "1"
      ]
     },
     "execution_count": 142,
     "metadata": {},
     "output_type": "execute_result"
    }
   ],
   "source": [
    "#Alternate Solution\n",
    "qwerty\n",
    "\n",
    "1 2 3 4 5 6 7 8 9 10\n",
    "1 1 1 1 1 1 1 1 1 1 "
   ]
  },
  {
   "cell_type": "code",
   "execution_count": 165,
   "metadata": {},
   "outputs": [
    {
     "name": "stdout",
     "output_type": "stream",
     "text": [
      "1\n",
      "10 1\n",
      "2 1 4 3 6 5 8 7 10 9\n"
     ]
    }
   ],
   "source": [
    "def absolutePermutation(n,k):\n",
    "    perm=[]\n",
    "    if(k==0):\n",
    "        return [int(i) for i in range(1,n+1)]\n",
    "    elif(n/k)%2!=0:\n",
    "        perm.append(-1)\n",
    "    else:\n",
    "        add=True\n",
    "        \n",
    "        for i in range(1,n+1):\n",
    "            if(add):\n",
    "                perm.append(i+k)\n",
    "            else:\n",
    "                perm.append(i-k)\n",
    "            if(i%k==0):\n",
    "                if(add):\n",
    "                    add=False\n",
    "                else:\n",
    "                    add=True\n",
    "    return perm\n",
    "    \n",
    "\n",
    "t=int(input())\n",
    "ans=[]\n",
    "for i in range(t):\n",
    "    holder=list(int(i) for i in input().strip().split(' '))\n",
    "    n=holder[0]\n",
    "    k=holder[1]\n",
    "    ans.append(absolutePermutation(n,k))\n",
    "for i in ans:\n",
    "    print(*i)\n",
    "    \n",
    "    "
   ]
  },
  {
   "cell_type": "code",
   "execution_count": 204,
   "metadata": {},
   "outputs": [
    {
     "data": {
      "text/plain": [
       "40"
      ]
     },
     "execution_count": 204,
     "metadata": {},
     "output_type": "execute_result"
    }
   ],
   "source": [
    "\n",
    "    \n",
    "        \n"
   ]
  },
  {
   "cell_type": "code",
   "execution_count": 264,
   "metadata": {},
   "outputs": [
    {
     "name": "stdout",
     "output_type": "stream",
     "text": [
      "1\n",
      "523 456 768 396 515\n",
      "1\n"
     ]
    }
   ],
   "source": [
    "def generateNumber(n):\n",
    "    hold=list(str(n))\n",
    "    mini=min(hold)\n",
    "    maxi=max(hold)\n",
    "    final_number=int(maxi)*11+int(mini)*7\n",
    "    l=str(final_number)\n",
    "    if(len(l)>2):\n",
    "        l=l[1:]\n",
    "        return l\n",
    "    else:\n",
    "        return l\n",
    "    \n",
    "def take_input(p):\n",
    "    sigs=[]\n",
    "    sigs.append(-99)\n",
    "    for i in p:\n",
    "        sigs.append(generateNumber(i))\n",
    "    return sigs\n",
    "\n",
    "def pairCheck(sigs):\n",
    "    pairs=0\n",
    "    even=[]\n",
    "    odd=[]\n",
    "    \n",
    "    for i in range(1,len(sigs)):\n",
    "        if(i%2==0):\n",
    "            even.append(sigs[i])\n",
    "        else:\n",
    "            odd.append(sigs[i])\n",
    "   \n",
    "    even_diction={}\n",
    "    odd_diction={}\n",
    "    for i in range(10):\n",
    "        even_diction[i]=[]\n",
    "        odd_diction[i]=[]\n",
    "    for i in even:\n",
    "        #print('even ',even)\n",
    "        most_sig_bit=int(str(i)[0])\n",
    "        #print(most_sig_bit)\n",
    "        even_diction[most_sig_bit].append(i)\n",
    "    for j in odd:\n",
    "        #print('odd ',odd)\n",
    "        #print(most_sig_bit)\n",
    "        most_sig_bit=int(str(j)[0])\n",
    "        odd_diction[most_sig_bit].append(j)\n",
    "    \n",
    "    for i in range(len(even_diction)):\n",
    "        \n",
    "        set_length=len(even_diction[i])\n",
    "        if(set_length>1):\n",
    "            temp1=int((set_length*(set_length-1))/2)\n",
    "            if(temp1>2):\n",
    "                temp1=2\n",
    "            pairs+=temp1\n",
    "            \n",
    "    for j in range(len(odd_diction)):\n",
    "        \n",
    "        set_length=len(odd_diction[j])\n",
    "        if(set_length>1):\n",
    "            temp2=int((set_length*(set_length-1))/2)\n",
    "            if(temp2>2):\n",
    "                temp2=2\n",
    "            pairs+=temp2\n",
    "            \n",
    "    return pairs\n",
    "\n",
    "u=int(input())\n",
    "input_holder=list(int(i) for i in input().strip().split(' '))\n",
    "chosen=take_input(input_holder)\n",
    "print(pairCheck(chosen))\n",
    "\n",
    "    "
   ]
  },
  {
   "cell_type": "code",
   "execution_count": null,
   "metadata": {},
   "outputs": [],
   "source": [
    "8 234 567 321 345 123 110 767 111"
   ]
  },
  {
   "cell_type": "code",
   "execution_count": 251,
   "metadata": {},
   "outputs": [
    {
     "data": {
      "text/plain": [
       "0"
      ]
     },
     "execution_count": 251,
     "metadata": {},
     "output_type": "execute_result"
    }
   ],
   "source": []
  },
  {
   "cell_type": "code",
   "execution_count": 255,
   "metadata": {},
   "outputs": [
    {
     "data": {
      "text/plain": [
       "'02'"
      ]
     },
     "execution_count": 255,
     "metadata": {},
     "output_type": "execute_result"
    }
   ],
   "source": [
    "def generateNumber(n):\n",
    "    hold=list(str(n))\n",
    "    mini=min(hold)\n",
    "    maxi=max(hold)\n",
    "    final_number=int(maxi)*11+int(mini)*7\n",
    "    l=str(final_number)\n",
    "    if(len(l)>2):\n",
    "        l=l[1:]\n",
    "        return l\n",
    "    else:\n",
    "        return l\n",
    "generateNumber(286)   "
   ]
  },
  {
   "cell_type": "code",
   "execution_count": 268,
   "metadata": {},
   "outputs": [
    {
     "ename": "SyntaxError",
     "evalue": "unexpected EOF while parsing (<ipython-input-268-cc7c73cd4db3>, line 18)",
     "output_type": "error",
     "traceback": [
      "\u001b[0;36m  File \u001b[0;32m\"<ipython-input-268-cc7c73cd4db3>\"\u001b[0;36m, line \u001b[0;32m18\u001b[0m\n\u001b[0;31m    print(\"Maximum contiguous sum is\", maxSubArraySum(a,len(a))\u001b[0m\n\u001b[0m                                                                ^\u001b[0m\n\u001b[0;31mSyntaxError\u001b[0m\u001b[0;31m:\u001b[0m unexpected EOF while parsing\n"
     ]
    }
   ],
   "source": [
    "from sys import maxint \n",
    "def maxSubArraySum(a,size): \n",
    "       \n",
    "    max_so_far = -maxint - 1\n",
    "    max_ending_here = 0\n",
    "       \n",
    "    for i in range(0, size): \n",
    "        max_ending_here = max_ending_here + a[i] \n",
    "        if (max_so_far < max_ending_here): \n",
    "            max_so_far = max_ending_here \n",
    "  \n",
    "        if max_ending_here < 0: \n",
    "            max_ending_here = 0   \n",
    "    return max_so_far \n",
    "   \n",
    "# Driver function to check the above function  \n",
    "a = [1 ,2 ,3 ,4 ,5 ,10, 11 ,3, 6, 16] \n",
    "print(\"Maximum contiguous sum is\", maxSubArraySum(a,len(a)) "
   ]
  },
  {
   "cell_type": "code",
   "execution_count": 277,
   "metadata": {},
   "outputs": [
    {
     "name": "stdout",
     "output_type": "stream",
     "text": [
      "Length of LDS is 2\n"
     ]
    }
   ],
   "source": [
    "def lds(arr, n): \n",
    "  \n",
    "    lds = [0] * n \n",
    "    max = 0\n",
    "  \n",
    "    # Initialize LDS with 1 for all index \n",
    "    # The minimum LDS starting with any \n",
    "    # element is always 1 \n",
    "    for i in range(n): \n",
    "        lds[i] = 1\n",
    "  \n",
    "    # Compute LDS from every index \n",
    "    # in bottom up manner \n",
    "    for i in range(1, n): \n",
    "        for j in range(i): \n",
    "            if (arr[i] < arr[j] and \n",
    "                lds[i] < lds[j] + 1): \n",
    "                lds[i] = lds[j] + 1\n",
    "  \n",
    "    # Select the maximum  \n",
    "    # of all the LDS values \n",
    "    for i in range(n): \n",
    "        if (max < lds[i]): \n",
    "            max = lds[i] \n",
    "  \n",
    "    # returns the length of the LDS \n",
    "    return max\n",
    "  \n",
    "# Driver Code \n",
    "if __name__ == \"__main__\": \n",
    "      \n",
    "    arr = [1 ,2, 3, 4 ,5, 10, 11, 3, 6, 16] \n",
    "    n = len(arr) \n",
    "    print(\"Length of LDS is\", lds(arr, n)) "
   ]
  },
  {
   "cell_type": "code",
   "execution_count": 282,
   "metadata": {},
   "outputs": [
    {
     "name": "stdout",
     "output_type": "stream",
     "text": [
      "Length of lis is 8\n"
     ]
    }
   ],
   "source": [
    "def lis(arr): \n",
    "    n = len(arr) \n",
    "  \n",
    "    # Declare the list (array) for LIS and  \n",
    "    # initialize LIS values for all indexes \n",
    "    lis = [1]*n \n",
    "  \n",
    "    # Compute optimized LIS values in bottom up manner \n",
    "    for i in range (1 , n): \n",
    "        for j in range(0 , i): \n",
    "            if arr[i] > arr[j] and lis[i]< lis[j] + 1 : \n",
    "                lis[i] = lis[j]+1\n",
    "  \n",
    "    # Initialize maximum to 0 to get  \n",
    "    # the maximum of all LIS \n",
    "    maximum = 0\n",
    "  \n",
    "    # Pick maximum of all LIS values \n",
    "    for i in range(n): \n",
    "        maximum = max(maximum , lis[i]) \n",
    "  \n",
    "    return maximum \n",
    "# end of lis function \n",
    "  \n",
    "# Driver program to test above function \n",
    "arr = [1 ,2 ,3 ,4 ,5 ,10, 11, 3, 6, 16] \n",
    "print (\"Length of lis is\", lis(arr))\n",
    "# This code is contributed by Nikhil Kumar Singh "
   ]
  },
  {
   "cell_type": "code",
   "execution_count": 287,
   "metadata": {},
   "outputs": [
    {
     "name": "stdout",
     "output_type": "stream",
     "text": [
      "Maximum contiguous sum is\n"
     ]
    },
    {
     "data": {
      "text/plain": [
       "(None, 61)"
      ]
     },
     "execution_count": 287,
     "metadata": {},
     "output_type": "execute_result"
    }
   ],
   "source": [
    "def maxSubArraySum(a,size): \n",
    "      \n",
    "    max_so_far =a[0] \n",
    "    curr_max = a[0] \n",
    "      \n",
    "    for i in range(1,size): \n",
    "        curr_max = max(a[i], curr_max + a[i]) \n",
    "        max_so_far = max(max_so_far,curr_max) \n",
    "          \n",
    "    return max_so_far \n",
    "  \n",
    "# Driver function to check the above function  \n",
    "a = [1 ,2, 3, 4, 5 ,10 ,11 ,3 ,6 ,16] \n",
    "print(\"Maximum contiguous sum is\") , maxSubArraySum(a,len(a)) \n",
    "  "
   ]
  },
  {
   "cell_type": "code",
   "execution_count": 289,
   "metadata": {},
   "outputs": [
    {
     "ename": "SyntaxError",
     "evalue": "invalid syntax (<ipython-input-289-4d2a65178f73>, line 1)",
     "output_type": "error",
     "traceback": [
      "\u001b[0;36m  File \u001b[0;32m\"<ipython-input-289-4d2a65178f73>\"\u001b[0;36m, line \u001b[0;32m1\u001b[0m\n\u001b[0;31m    1 2 3 4 5 10 11 3 6 16\u001b[0m\n\u001b[0m      ^\u001b[0m\n\u001b[0;31mSyntaxError\u001b[0m\u001b[0;31m:\u001b[0m invalid syntax\n"
     ]
    }
   ],
   "source": [
    "1 2 3 4 5 10 11 3 6 16"
   ]
  },
  {
   "cell_type": "code",
   "execution_count": 300,
   "metadata": {},
   "outputs": [],
   "source": [
    "N=6\n",
    "aux_mat=[[0 for i in range(1,N+1)] for j in range(2)]"
   ]
  },
  {
   "cell_type": "code",
   "execution_count": 303,
   "metadata": {},
   "outputs": [],
   "source": [
    "target=[a,b,c,c,e,f]\n",
    "aux_mat[][]=1"
   ]
  },
  {
   "cell_type": "code",
   "execution_count": 304,
   "metadata": {},
   "outputs": [
    {
     "data": {
      "text/plain": [
       "[[1, 1, 0, 0, 0, 0], [0, 0, 0, 0, 0, 0]]"
      ]
     },
     "execution_count": 304,
     "metadata": {},
     "output_type": "execute_result"
    }
   ],
   "source": [
    "aux_mat"
   ]
  },
  {
   "cell_type": "code",
   "execution_count": 2,
   "metadata": {
    "scrolled": true
   },
   "outputs": [],
   "source": [
    "#HackerRank Test"
   ]
  },
  {
   "cell_type": "code",
   "execution_count": 339,
   "metadata": {},
   "outputs": [
    {
     "name": "stdout",
     "output_type": "stream",
     "text": [
      "azerdii\n",
      "5\n",
      "erdii\n"
     ]
    }
   ],
   "source": [
    "from itertools import combinations \n",
    "def substrings(s,k):\n",
    "    for i in range(len(s)-k+1):\n",
    "        subs.append(s[i:i+k])\n",
    "    return subs\n",
    "\n",
    "inp=str(input())\n",
    "\n",
    "k=int(input())\n",
    "if((inp.count('a')+inp.count('e')+inp.count('i')+inp.count('o')+inp.count('u'))==0):\n",
    "    print('Not found!')\n",
    "else:\n",
    "    subs=substrings(inp,k)\n",
    "    (maxi,index)=(subs[0].count('a')+subs[0].count('e')+subs[0].count('i')+subs[0].count('o')+subs[0].count('u'),0)\n",
    "    val_hold=[]\n",
    "    for i in range(len(subs)):\n",
    "        sumi=subs[i].count('a')+subs[i].count('e')+subs[i].count('i')+subs[i].count('o')+subs[i].count('u')\n",
    "        val_hold.append((subs[i],sumi))\n",
    "    val_hold.sort(key=lambda s:s[1],reverse=True)\n",
    "    sem_ans=val_hold[0]\n",
    "    for i in val_hold:\n",
    "        if(i[1]==sem_ans[1]):\n",
    "            if(subs.index(i[0])<subs.index(sem_ans[0])):\n",
    "                sem_ans=i\n",
    "    print(sem_ans[0])\n",
    "    "
   ]
  },
  {
   "cell_type": "code",
   "execution_count": null,
   "metadata": {},
   "outputs": [],
   "source": [
    "def question_2(arr):\n",
    "    if(len(arr)<2):\n",
    "        return len(arr)\n",
    "    best=1\n",
    "    bestLower=1\n",
    "    bestHigher=1\n",
    "    \n",
    "    for i in range(1,len(arr)-1):\n",
    "        if(arr[i]==arr[i-1]):\n",
    "            bestLower=bestLower+1\n",
    "            bestHigher=bestHigher+1\n",
    "        elif(arr[i]-1==arr[i-1]):\n",
    "            bestLower=1+bestHigher\n",
    "            bestHigher=1\n",
    "        elif(arr[i]+1==arr[i-1]):\n",
    "            bestHigher=1+bestLower\n",
    "            bestLower=1\n",
    "        else:\n",
    "            bestLower=1\n",
    "            bestHigher=1\n",
    "        best=max(best,bestLower,bestHigher)\n",
    "    return best\n",
    "for i in    "
   ]
  },
  {
   "cell_type": "code",
   "execution_count": 337,
   "metadata": {},
   "outputs": [
    {
     "data": {
      "text/plain": [
       "True"
      ]
     },
     "execution_count": 337,
     "metadata": {},
     "output_type": "execute_result"
    }
   ],
   "source": [
    "arr=[3,2,2,1]\n",
    "arr==[3,2,2,1]"
   ]
  },
  {
   "cell_type": "code",
   "execution_count": null,
   "metadata": {},
   "outputs": [],
   "source": []
  },
  {
   "cell_type": "code",
   "execution_count": 94,
   "metadata": {},
   "outputs": [
    {
     "name": "stdout",
     "output_type": "stream",
     "text": [
      "1\n",
      "2\n",
      "3\n",
      "max  3\n",
      "min  1\n",
      "{'a': 1, 'b': 2, 'c': 3}\n",
      "{3: 1, 1: 1}\n"
     ]
    },
    {
     "data": {
      "text/plain": [
       "'YES'"
      ]
     },
     "execution_count": 94,
     "metadata": {},
     "output_type": "execute_result"
    }
   ],
   "source": [
    "#Sherlock and the valid Strings\n",
    "\n",
    "def isValid(s):\n",
    "    char_freq={}\n",
    "    for i in s:\n",
    "        char_freq[i]=0\n",
    "    for j in s:\n",
    "        char_freq[j]+=1\n",
    "    maximum=char_freq[s[0]]\n",
    "    minimum=char_freq[s[0]]\n",
    "    #print(maximum)\n",
    "    #print(minimum)\n",
    "    for i in char_freq:\n",
    "        print(char_freq[i])\n",
    "        if(maximum<char_freq[i]):\n",
    "            maximum=char_freq[i]\n",
    "    for j in char_freq:\n",
    "        if(minimum>char_freq[j]):\n",
    "            minimum=char_freq[j]\n",
    "    print('max ',maximum)\n",
    "    print('min ',minimum)\n",
    "            \n",
    "    if(maximum==minimum):return 'YES'\n",
    "    \n",
    "    maxFreq=0\n",
    "    minFreq=0\n",
    "    print(char_freq)\n",
    "    \n",
    "    for i in char_freq:\n",
    "        if(char_freq[i]==maximum):\n",
    "            maxFreq+=1\n",
    "    for j in char_freq:\n",
    "        if(char_freq[j]==minimum):\n",
    "            minFreq+=1\n",
    "    freq_of_freq={}\n",
    "    freq_of_freq[maximum]=maxFreq\n",
    "    freq_of_freq[minimum]=minFreq\n",
    "    print(freq_of_freq)\n",
    "    if(minimum==1 and minFreq==1):\n",
    "        return 'YES'\n",
    "    elif(maximum-minimum==1 and maxFreq==1):\n",
    "        return 'YES'\n",
    "    return 'NO'\n",
    "    \n",
    "isValid('abbccc')\n",
    "        "
   ]
  },
  {
   "cell_type": "code",
   "execution_count": 112,
   "metadata": {},
   "outputs": [],
   "source": [
    "from collections import Counter\n",
    "def isValid(s):\n",
    "    c = Counter(s)\n",
    "    print(c)\n",
    "    freq = Counter(c.values())\n",
    "    print(freq)\n",
    "    if len(freq) == 1:\n",
    "        return \"YES\"\n",
    "    elif len(freq) == 2:\n",
    "        key_max = max(freq.keys())\n",
    "        key_min = min(freq.keys())\n",
    "        if key_max - key_min == 1 and freq[key_max] == 1:\n",
    "            return \"YES\"\n",
    "        elif key_min == 1 and freq[key_min] == 1:\n",
    "            return \"YES\"\n",
    "    return \"NO\""
   ]
  },
  {
   "cell_type": "code",
   "execution_count": 122,
   "metadata": {},
   "outputs": [
    {
     "name": "stdout",
     "output_type": "stream",
     "text": [
      "Counter({'c': 3, 'a': 2, 'd': 2})\n",
      "Counter({2: 2, 3: 1})\n"
     ]
    },
    {
     "data": {
      "text/plain": [
       "'YES'"
      ]
     },
     "execution_count": 122,
     "metadata": {},
     "output_type": "execute_result"
    }
   ],
   "source": [
    "isValid('acccadd')"
   ]
  },
  {
   "cell_type": "code",
   "execution_count": 128,
   "metadata": {},
   "outputs": [],
   "source": [
    "#HackerRank Question - Special String Again\n",
    "\n",
    "\n"
   ]
  },
  {
   "cell_type": "code",
   "execution_count": 143,
   "metadata": {},
   "outputs": [],
   "source": []
  },
  {
   "cell_type": "code",
   "execution_count": 1,
   "metadata": {},
   "outputs": [
    {
     "name": "stdout",
     "output_type": "stream",
     "text": [
      "1\n",
      "a\n",
      "1\n"
     ]
    }
   ],
   "source": [
    "def substrings(s,k):\n",
    "    subs=[]\n",
    "    for i in range(len(s)-k+1):\n",
    "        subs.append(s[i:i+k])\n",
    "    return subs\n",
    "\n",
    "def check_validity2(string):\n",
    "    mid=int(len(string)/2)\n",
    "    if(len(string)==1):return True\n",
    "    elif(len(string)%2==0):\n",
    "        if(check_validity(string)):\n",
    "            return True\n",
    "        else:\n",
    "            return False\n",
    "    else:\n",
    "        mid_removed=string[:mid]+string[mid+1:]\n",
    "        if(check_validity(mid_removed)):\n",
    "            return True\n",
    "        else:\n",
    "            return False\n",
    "\n",
    "def check_validity(string):\n",
    "    #Checking case 1:\n",
    "    for i in range(1,len(string)):\n",
    "        if(string[i-1]==string[i]):\n",
    "            continue\n",
    "        else:\n",
    "            return False\n",
    "            break\n",
    "            \n",
    "    return True\n",
    "\n",
    "n=int(input())\n",
    "s=str(input())\n",
    "list_of_substrings=[]\n",
    "for i in range(len(s)):\n",
    "    list_of_substrings.append(substrings(s,i+1))\n",
    "\n",
    "        \n",
    "#check_validity('aadaaa')  \n",
    "counter=0\n",
    "for i in range(len(list_of_substrings)):\n",
    "    for j in range(len(list_of_substrings[i])):\n",
    "        if(check_validity2(list_of_substrings[i][j])):\n",
    "            #print(list_of_substrings[i][j])\n",
    "            counter+=1\n",
    "print(counter)\n",
    "#list_of_substrings"
   ]
  },
  {
   "cell_type": "code",
   "execution_count": 230,
   "metadata": {},
   "outputs": [
    {
     "data": {
      "text/plain": [
       "True"
      ]
     },
     "execution_count": 230,
     "metadata": {},
     "output_type": "execute_result"
    }
   ],
   "source": [
    "def check_validity(string):\n",
    "    #Checking case 1:\n",
    "\n",
    "    for i in range(1,len(string)):\n",
    "        if(string[i-1]==string[i]):\n",
    "            continue\n",
    "        else:\n",
    "            return False\n",
    "            break\n",
    "            \n",
    "    return True\n",
    "check_validity('bb')\n",
    "\n",
    "    \n",
    "    \n"
   ]
  },
  {
   "cell_type": "code",
   "execution_count": null,
   "metadata": {},
   "outputs": [],
   "source": []
  },
  {
   "cell_type": "code",
   "execution_count": 52,
   "metadata": {},
   "outputs": [
    {
     "name": "stdout",
     "output_type": "stream",
     "text": [
      "1\n",
      "aaaa\n",
      "14\n"
     ]
    }
   ],
   "source": [
    "#HackerRank Question - Special String Again\n",
    "\n",
    "def check(i,ptr):\n",
    "    if(i+ptr<len(string) and i-ptr>=0):\n",
    "        return True\n",
    "    else:\n",
    "        return False\n",
    "\n",
    "def check_validity(string):\n",
    "    ans=len(string)\n",
    "    counter=0\n",
    "    \n",
    "    for i in range(len(string)):\n",
    "        \n",
    "       \n",
    "        common=0\n",
    "        while(i+1<len(string) and string[i]==string[i+1]):\n",
    "            common+=1\n",
    "            i+=1\n",
    "        ans+=int((common*(common+1))/2)\n",
    "        ptr=1\n",
    "        while(check(i,ptr) and (string[i+ptr]==string[i-1] and string[i-ptr]==string[i-1])):\n",
    "            ans+=1\n",
    "            ptr+=1\n",
    "            \n",
    "    return ans\n",
    "x=int(input())\n",
    "string=str(input())\n",
    "print(check_validity(string))\n"
   ]
  },
  {
   "cell_type": "code",
   "execution_count": 121,
   "metadata": {},
   "outputs": [
    {
     "name": "stdout",
     "output_type": "stream",
     "text": [
      "1\n",
      "aaaa\n",
      "9\n"
     ]
    }
   ],
   "source": [
    "def okay(i,dist,string):\n",
    "    if(i+dist<len(string) and i-dist>=0):\n",
    "        return True\n",
    "    else:\n",
    "        return False\n",
    "def string_check(string):\n",
    "    ans=len(string)\n",
    "    counter=0\n",
    "    for i in range(1,len(string)):\n",
    "        if(string[i-1]==string[i]):\n",
    "            ans+=1\n",
    "        #print('counter ',counter)\n",
    "        #ans+=int((counter*(counter+1))/2)\n",
    "        \n",
    "        valid_substring=0\n",
    "        dist=1\n",
    "        while(okay(i,dist,string) and (string[i+dist]==string[i-1] and string[i-dist]==string[i-1])):\n",
    "            dist+=1\n",
    "            ans+=1\n",
    "    \n",
    "    \n",
    "    return ans\n",
    "\n",
    "x=int(input())\n",
    "string=str(input())\n",
    "print(string_check(string))\n"
   ]
  },
  {
   "cell_type": "code",
   "execution_count": 124,
   "metadata": {},
   "outputs": [
    {
     "name": "stdout",
     "output_type": "stream",
     "text": [
      "1\n",
      "asasd\n",
      "7\n"
     ]
    }
   ],
   "source": [
    "def okay(i,dist,string):\n",
    "    if(i+dist<len(string) and i-dist>=0):\n",
    "        return True\n",
    "    else:\n",
    "        return False\n",
    "def string_check(string):\n",
    "    ans=len(string)\n",
    "   \n",
    "    for i in range(len(string)):\n",
    "        counter=0\n",
    "        while(i+1<len(string) and string[i]==string[i+1]):\n",
    "            counter+=1\n",
    "            i+=1\n",
    "        \n",
    "        ans+=int((counter*(counter+1))/2)\n",
    "        dist=1\n",
    "        \n",
    "        while(okay(i,dist,string) and (string[i+dist]==string[i-1] and string[i-dist]==string[i-1])):\n",
    "            ans+=1\n",
    "            dist+=1\n",
    "    \n",
    "    \n",
    "    return ans\n",
    "\n",
    "x=int(input())\n",
    "string=str(input())\n",
    "print(string_check(string))\n"
   ]
  },
  {
   "cell_type": "code",
   "execution_count": 27,
   "metadata": {},
   "outputs": [
    {
     "name": "stdout",
     "output_type": "stream",
     "text": [
      "1\n",
      "asasd\n",
      "7\n"
     ]
    }
   ],
   "source": [
    "def soln(string):\n",
    "    ans=0\n",
    "    memoize=[0 for i in range(len(string))]\n",
    "    i=0\n",
    "    while(i<len(string)):\n",
    "        j=i+1\n",
    "        counter=1\n",
    "        while(j<len(string) and string[j]==string[i]):\n",
    "            counter+=1\n",
    "            j+=1\n",
    "        ans+=((counter*(counter+1)))>>1\n",
    "        memoize[i]=counter\n",
    "        i=j\n",
    "        \n",
    "    \n",
    "    for i in range(1,len(memoize)-1):\n",
    "        if(string[i-1]==string[i]):\n",
    "            memoize[i]==memoize[i-1]\n",
    "        if(string[i-1]==string[i+1] and string[i]!=string[i-1]):\n",
    "            ans+=min(memoize[i-1],memoize[i+1])\n",
    "    return ans\n",
    "x=int(input())\n",
    "string=str(input())\n",
    "print(soln(string))\n",
    "        \n",
    "            \n",
    "    \n",
    "        "
   ]
  },
  {
   "cell_type": "code",
   "execution_count": null,
   "metadata": {},
   "outputs": [],
   "source": []
  }
 ],
 "metadata": {
  "kernelspec": {
   "display_name": "Python 3",
   "language": "python",
   "name": "python3"
  },
  "language_info": {
   "codemirror_mode": {
    "name": "ipython",
    "version": 3
   },
   "file_extension": ".py",
   "mimetype": "text/x-python",
   "name": "python",
   "nbconvert_exporter": "python",
   "pygments_lexer": "ipython3",
   "version": "3.7.6"
  }
 },
 "nbformat": 4,
 "nbformat_minor": 4
}
