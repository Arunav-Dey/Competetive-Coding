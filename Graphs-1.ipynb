{
 "cells": [
  {
   "cell_type": "markdown",
   "metadata": {},
   "source": [
    "# Building a Graph (Undirected and Non-weighted edges)"
   ]
  },
  {
   "cell_type": "code",
   "execution_count": 210,
   "metadata": {},
   "outputs": [],
   "source": [
    "def build_graph(n,e):\n",
    "    edges=[[0 for i in range(n)] for j in range(n)]\n",
    "    for i in range(e):\n",
    "        holder=list(int(i) for i in input().strip().split(' '))\n",
    "        f=holder[0]\n",
    "        s=holder[1]\n",
    "        holder=[]\n",
    "        edges[f][s]=1\n",
    "        edges[s][f]=1\n",
    "    return edges"
   ]
  },
  {
   "cell_type": "markdown",
   "metadata": {},
   "source": [
    "# Printing the node elements (DFS)"
   ]
  },
  {
   "cell_type": "code",
   "execution_count": 102,
   "metadata": {},
   "outputs": [
    {
     "name": "stdout",
     "output_type": "stream",
     "text": [
      "3\n",
      "1 2\n",
      "0 1\n",
      "0 2\n",
      "0\n",
      "1\n",
      "2\n"
     ]
    }
   ],
   "source": [
    "def print_graph(edges,n,sv,visited):\n",
    "    print(sv)\n",
    "    visited[sv]=True\n",
    "    for i in range(n):\n",
    "        if(i==sv):\n",
    "            continue\n",
    "        if(edges[sv][i]==1):\n",
    "            if(visited[i]):\n",
    "                continue\n",
    "            print_graph(edges,n,i,visited)\n",
    "\n",
    "\n",
    "n=int(input())    \n",
    "visited=[False for i in range(n)]    \n",
    "edges=build_graph(n) \n",
    "print_graph(edges,n,0,visited)"
   ]
  },
  {
   "cell_type": "markdown",
   "metadata": {},
   "source": [
    "# Breadth First Traversal"
   ]
  },
  {
   "cell_type": "code",
   "execution_count": 112,
   "metadata": {},
   "outputs": [],
   "source": [
    "def print_BFS(edges,n,sv):\n",
    "    pending_vertices=[]\n",
    "    visited=[False for i in range(n)]\n",
    "    pending_vertices.append(sv)\n",
    "    visited[sv]=True\n",
    "    while(len(pending_vertices) is not 0):\n",
    "        current_vertex=pending_vertices.pop(0)\n",
    "        print(current_vertex)\n",
    "        for i in range(n):\n",
    "            if(i==current_vertex):\n",
    "                continue\n",
    "            if(edges[current_vertex][i]==1 and not visited[i]):\n",
    "                pending_vertices.append(i)\n",
    "                visited[i]=True    "
   ]
  },
  {
   "cell_type": "code",
   "execution_count": 113,
   "metadata": {},
   "outputs": [
    {
     "name": "stdout",
     "output_type": "stream",
     "text": [
      "4\n",
      "0 1\n",
      "0 3\n",
      "1 2\n",
      "2 3\n",
      "0\n",
      "1\n",
      "3\n",
      "2\n"
     ]
    }
   ],
   "source": [
    "n=int(input())\n",
    "edges=build_graph(n)\n",
    "print_BFS(edges,n,0)"
   ]
  },
  {
   "cell_type": "markdown",
   "metadata": {},
   "source": [
    "# Taking care of the Disconnected Graphs"
   ]
  },
  {
   "cell_type": "code",
   "execution_count": 121,
   "metadata": {},
   "outputs": [],
   "source": [
    "def build_graph(n,e):\n",
    "    edges=[[0 for i in range(n)] for j in range(n)]\n",
    "    for i in range(e):\n",
    "        holder=list(int(i) for i in input().strip().split(' '))\n",
    "        f=holder[0]\n",
    "        s=holder[1]\n",
    "        holder=[]\n",
    "        edges[f][s]=1\n",
    "        edges[s][f]=1\n",
    "    return edges\n",
    "\n",
    "def print_DFS(edges,n,sv,visited):\n",
    "    print(sv)\n",
    "    visited[sv]=True\n",
    "    for i in range(n):\n",
    "        if(i==sv):\n",
    "            continue\n",
    "        if(edges[sv][i]==1):\n",
    "            if(visited[i]):\n",
    "                continue\n",
    "            print_DFS(edges,n,i,visited)\n",
    "\n",
    "def print_BFS(edges,n,sv,visited):\n",
    "    pending_vertices=[]\n",
    "    pending_vertices.append(sv)\n",
    "    visited[sv]=True\n",
    "    while(len(pending_vertices) is not 0):\n",
    "        current_vertex=pending_vertices.pop(0)\n",
    "        print(current_vertex)\n",
    "        for i in range(n):\n",
    "            if(i==current_vertex):\n",
    "                continue\n",
    "            if(edges[current_vertex][i]==1 and not visited[i]):\n",
    "                pending_vertices.append(i)\n",
    "                visited[i]=True   \n",
    "\n",
    "def BFS(edges,n):\n",
    "    visited=[False for i in range(n)]\n",
    "    for i in range(n):\n",
    "        if(visited[i]==False):\n",
    "            print_BFS(edges,n,i,visited)\n",
    "    \n",
    "\n",
    "def DFS(edges,n,visited):\n",
    "    visited=[False for i in range(n)]\n",
    "    for i in range(n):\n",
    "        if(visited[i]==False):\n",
    "            print_DFS(edges,n,i,visited)\n",
    "    \n",
    "    "
   ]
  },
  {
   "cell_type": "code",
   "execution_count": 122,
   "metadata": {},
   "outputs": [
    {
     "name": "stdout",
     "output_type": "stream",
     "text": [
      "7\n",
      "5\n",
      "0 2\n",
      "0 3\n",
      "2 3\n",
      "1 4\n",
      "5 6\n",
      "0\n",
      "2\n",
      "3\n",
      "1\n",
      "4\n",
      "5\n",
      "6\n"
     ]
    }
   ],
   "source": [
    "n=int(input())\n",
    "e=int(input())\n",
    "edges=build_graph(n,e)\n",
    "BFS(edges,n)"
   ]
  },
  {
   "cell_type": "markdown",
   "metadata": {},
   "source": [
    "# QUESTION: Has Path"
   ]
  },
  {
   "cell_type": "code",
   "execution_count": 231,
   "metadata": {
    "scrolled": true
   },
   "outputs": [
    {
     "name": "stdout",
     "output_type": "stream",
     "text": [
      "9 9\n",
      "0 8\n",
      "1 6\n",
      "1 7\n",
      "1 8\n",
      "5 8\n",
      "6 0\n",
      "7 3\n",
      "7 4\n",
      "8 7\n",
      "2 8\n",
      "true\n"
     ]
    }
   ],
   "source": [
    "def build_graph(n,e):\n",
    "    edges=[[0 for i in range(n)] for j in range(n)]\n",
    "    for i in range(e):\n",
    "        holder=list(int(i) for i in input().strip().split(' '))\n",
    "        f=holder[0]\n",
    "        s=holder[1]\n",
    "        holder=[]\n",
    "        edges[f][s]=1\n",
    "        edges[s][f]=1\n",
    "    return edges\n",
    "\n",
    "def print_BFS(edges,n,sv,end_vertex,visited):\n",
    "    if(edges[sv][end_vertex]==1):return True\n",
    "    pending_vertices=[]\n",
    "    pending_vertices.append(sv)\n",
    "    visited[sv]=True\n",
    "    while(len(pending_vertices) is not 0):\n",
    "        current_vertex=pending_vertices.pop(0)\n",
    "        #print(current_vertex)\n",
    "        for i in range(n):\n",
    "            if(edges[current_vertex][i]==1 and not visited[i]):\n",
    "                if(i==end_vertex):return True\n",
    "                else:\n",
    "                    pending_vertices.append(i)\n",
    "                    visited[i]=True\n",
    "    return False\n",
    "\n",
    "\n",
    "def hasPath(n,edges,starting_vertex,ending_vertex):\n",
    "    visited=[False for i in range(n)]\n",
    "    return print_BFS(edges,n,starting_vertex,end_vertex,visited)\n",
    "    \n",
    "    \n",
    "    \n",
    "holder1=list(int(i) for i in input().strip().split(' '))\n",
    "holder2=list(int(i) for i in input().strip().split(' '))\n",
    "\n",
    "n=holder1[0]\n",
    "e=holder1[1]\n",
    "starting_vertex=holder2[0]\n",
    "end_vertex=holder2[1]\n",
    "edges=build_graph(n,e)\n",
    "if(hasPath(n,edges,starting_vertex,end_vertex)):\n",
    "    print('true')\n",
    "else:\n",
    "    print('false')\n",
    "#print(hasPath(n,edges,starting_vertex,end_vertex))"
   ]
  },
  {
   "cell_type": "markdown",
   "metadata": {},
   "source": [
    "# QUESTION: Get Path (BFS)"
   ]
  },
  {
   "cell_type": "code",
   "execution_count": null,
   "metadata": {},
   "outputs": [],
   "source": [
    "'''\n",
    "\n",
    "\n",
    "'''"
   ]
  },
  {
   "cell_type": "code",
   "execution_count": 187,
   "metadata": {},
   "outputs": [],
   "source": [
    "def build_graph(n,e):\n",
    "    edges=[[0 for i in range(n)] for j in range(n)]\n",
    "    for i in range(e):\n",
    "        holder=list(int(i) for i in input().strip().split(' '))\n",
    "        f=holder[0]\n",
    "        s=holder[1]\n",
    "        holder=[]\n",
    "        edges[f][s]=1\n",
    "        edges[s][f]=1\n",
    "    return edges\n",
    "\n",
    "def getPath(n,edges,starting_vertex,end_vertex,visited):\n",
    "    path_trace={}\n",
    "    pending_vertices=[]\n",
    "    if(edges[starting_vertex][end_vertex]==1 and starting_vertex==end_vertex):\n",
    "        path=[]\n",
    "        path.append(starting_vertex)\n",
    "        return path\n",
    "    pending_vertices.append(starting_vertex)\n",
    "    visited[starting_vertex]=True\n",
    "    while(len(pending_vertices)!=0):\n",
    "        current_vertex=pending_vertices.pop(0)\n",
    "        for i in range(n):\n",
    "            if(edges[current_vertex][i]==1 and visited[i]==False):\n",
    "                path_trace[i]=current_vertex\n",
    "                pending_vertices.append(i)\n",
    "                visited[i]=True\n",
    "                if(i==end_vertex):\n",
    "                    path=[]\n",
    "                    path.append(end_vertex)\n",
    "                    value=path_trace[end_vertex]\n",
    "                    while(value!=starting_vertex):\n",
    "                        path.append(value)\n",
    "                        value=path_trace[value]\n",
    "                    path.append(value)\n",
    "                    return path\n",
    "    return []   "
   ]
  },
  {
   "cell_type": "code",
   "execution_count": 189,
   "metadata": {},
   "outputs": [
    {
     "name": "stdout",
     "output_type": "stream",
     "text": [
      "4 4\n",
      "0 1\n",
      "0 3\n",
      "1 2\n",
      "2 3\n",
      "1 3\n",
      "1 3 0 "
     ]
    }
   ],
   "source": [
    "holder1=list(int(i) for i in input().strip().split(' '))\n",
    "holder2=list(int(i) for i in input().strip().split(' '))\n",
    "n=holder1[0]\n",
    "e=holder1[1]\n",
    "starting_vertex=holder2[0]\n",
    "end_vertex=holder2[1]\n",
    "edges=build_graph(n,e)\n",
    "visited=[False for i in range(n)]\n",
    "paths=getPath(n,edges,starting_vertex,end_vertex,visited)\n",
    "if(len(path)!=0):\n",
    "    for i in paths:\n",
    "        print(i,end=' ')"
   ]
  },
  {
   "cell_type": "markdown",
   "metadata": {},
   "source": [
    "# QUESTION: Get Path (DFS)"
   ]
  },
  {
   "cell_type": "code",
   "execution_count": 264,
   "metadata": {
    "collapsed": true
   },
   "outputs": [
    {
     "data": {
      "text/plain": [
       "'\\n\\nCode : Get Path - DFS\\n\\nGiven an undirected graph G(V, E) and two vertices v1 and v2(as integers), find and print the path from v1 to v2 (if exists). Print nothing if there is no path between v1 and v2.\\nFind the path using DFS and print the first path that you encountered.\\nV is the number of vertices present in graph G and vertices are numbered from 0 to V-1.\\nE is the number of edges present in graph G.\\nPrint the path in reverse order. That is, print v2 first, then intermediate vertices and v1 at last.\\nNote : Save the input graph in Adjacency Matrix.\\nInput Format :\\nLine 1: Two Integers V and E (separated by space)\\nNext E lines : Two integers a and b, denoting that there exists an edge between vertex a and vertex b (separated by space)\\nLine (E+2) : Two integers v1 and v2 (separated by space)\\nOutput Format :\\nPath from v1 to v2 in reverse order (separated by space)\\nConstraints :\\n2 <= V <= 1000\\n1 <= E <= 1000\\n0 <= v1, v2 <= V-1\\nSample Input 1 :\\n4 4\\n0 1\\n0 3\\n1 2\\n2 3\\n1 3\\nSample Output 1 :\\n3 0 1\\nSample Input 2 :\\n6 3\\n5 3\\n0 1\\n3 4\\n0 3\\nSample Output 2 :\\n\\n'"
      ]
     },
     "execution_count": 264,
     "metadata": {},
     "output_type": "execute_result"
    }
   ],
   "source": [
    "'''\n",
    "\n",
    "Code : Get Path - DFS\n",
    "\n",
    "Given an undirected graph G(V, E) and two vertices v1 and v2(as integers), find and print the path from v1 to v2 (if exists). Print nothing if there is no path between v1 and v2.\n",
    "Find the path using DFS and print the first path that you encountered.\n",
    "V is the number of vertices present in graph G and vertices are numbered from 0 to V-1.\n",
    "E is the number of edges present in graph G.\n",
    "Print the path in reverse order. That is, print v2 first, then intermediate vertices and v1 at last.\n",
    "Note : Save the input graph in Adjacency Matrix.\n",
    "Input Format :\n",
    "Line 1: Two Integers V and E (separated by space)\n",
    "Next E lines : Two integers a and b, denoting that there exists an edge between vertex a and vertex b (separated by space)\n",
    "Line (E+2) : Two integers v1 and v2 (separated by space)\n",
    "Output Format :\n",
    "Path from v1 to v2 in reverse order (separated by space)\n",
    "Constraints :\n",
    "2 <= V <= 1000\n",
    "1 <= E <= 1000\n",
    "0 <= v1, v2 <= V-1\n",
    "Sample Input 1 :\n",
    "4 4\n",
    "0 1\n",
    "0 3\n",
    "1 2\n",
    "2 3\n",
    "1 3\n",
    "Sample Output 1 :\n",
    "3 0 1\n",
    "Sample Input 2 :\n",
    "6 3\n",
    "5 3\n",
    "0 1\n",
    "3 4\n",
    "0 3\n",
    "Sample Output 2 :\n",
    "\n",
    "'''"
   ]
  },
  {
   "cell_type": "code",
   "execution_count": 263,
   "metadata": {},
   "outputs": [
    {
     "name": "stdout",
     "output_type": "stream",
     "text": [
      "4 4\n",
      "2 2\n",
      "3 2\n",
      "3 1\n",
      "1 2\n",
      "2 3\n",
      "2 "
     ]
    }
   ],
   "source": [
    "def build_graph(n,e):\n",
    "    edges=[[0 for i in range(n)] for j in range(n)]\n",
    "    for i in range(e):\n",
    "        holder=list(int(i) for i in input().strip().split(' '))\n",
    "        f=holder[0]\n",
    "        s=holder[1]\n",
    "        holder=[]\n",
    "        edges[f][s]=1\n",
    "        edges[s][f]=1\n",
    "    return edges\n",
    "\n",
    "def print_DFS(edges,n,sv,ev,visited):\n",
    "    #print(sv)\n",
    "    if(sv==ev):\n",
    "        return list([sv])\n",
    "    visited[sv]=True\n",
    "    for i in range(n):\n",
    "        if(edges[sv][i]==1 and not visited[i]):\n",
    "            jp=print_DFS(edges,n,i,ev,visited)\n",
    "            if(jp!=None):\n",
    "                jp.append(sv)\n",
    "                return jp\n",
    "    return None\n",
    "holder=list(int(i) for i in input().strip().split(' '))\n",
    "holder2=list(int(i) for i in input().strip().split(' '))\n",
    "n=holder[0]\n",
    "e=holder[1]\n",
    "sv=holder2[0]\n",
    "ev=holder2[1]\n",
    "holder,holder2=[],[]\n",
    "edges=build_graph(n,e) \n",
    "visited=[False for i in range(n)]\n",
    "ans=print_DFS(edges,n,sv,ev,visited)\n",
    "if(ans!=None):\n",
    "    for i in ans:\n",
    "        print(i,end=' ')\n",
    "        "
   ]
  },
  {
   "cell_type": "markdown",
   "metadata": {},
   "source": [
    "# QUESTION: Is Connected?"
   ]
  },
  {
   "cell_type": "code",
   "execution_count": 194,
   "metadata": {
    "collapsed": true
   },
   "outputs": [
    {
     "data": {
      "text/plain": [
       "'\\n\\nCode : Is Connected ?\\n\\nGiven an undirected graph G(V,E), check if the graph G is connected graph or not.\\nV is the number of vertices present in graph G and vertices are numbered from 0 to V-1.\\nE is the number of edges present in graph G.\\nInput Format :\\nLine 1: Two Integers V and E (separated by space)\\nNext \\'E\\' lines, each have two space-separated integers, \\'a\\' and \\'b\\', denoting that there exists an edge between Vertex \\'a\\' and Vertex \\'b\\'.\\nOutput Format :\\n\"true\" or \"false\"\\nConstraints :\\n2 <= V <= 1000\\n1 <= E <= 1000\\nSample Input 1:\\n4 4\\n0 1\\n0 3\\n1 2\\n2 3\\nSample Output 1:\\ntrue\\nSample Input 2:\\n4 3\\n0 1\\n1 3 \\n0 3\\nSample Output 2:\\nfalse \\nSample Output 2 Explanation\\nThe graph is not connected, even though vertices 0,1 and 3 are connected to each other but there isn’t any path from vertices 0,1,3 to vertex 2. \\n\\n'"
      ]
     },
     "execution_count": 194,
     "metadata": {},
     "output_type": "execute_result"
    }
   ],
   "source": [
    "'''\n",
    "\n",
    "Code : Is Connected ?\n",
    "\n",
    "Given an undirected graph G(V,E), check if the graph G is connected graph or not.\n",
    "V is the number of vertices present in graph G and vertices are numbered from 0 to V-1.\n",
    "E is the number of edges present in graph G.\n",
    "Input Format :\n",
    "Line 1: Two Integers V and E (separated by space)\n",
    "Next 'E' lines, each have two space-separated integers, 'a' and 'b', denoting that there exists an edge between Vertex 'a' and Vertex 'b'.\n",
    "Output Format :\n",
    "\"true\" or \"false\"\n",
    "Constraints :\n",
    "2 <= V <= 1000\n",
    "1 <= E <= 1000\n",
    "Sample Input 1:\n",
    "4 4\n",
    "0 1\n",
    "0 3\n",
    "1 2\n",
    "2 3\n",
    "Sample Output 1:\n",
    "true\n",
    "Sample Input 2:\n",
    "4 3\n",
    "0 1\n",
    "1 3 \n",
    "0 3\n",
    "Sample Output 2:\n",
    "false \n",
    "Sample Output 2 Explanation\n",
    "The graph is not connected, even though vertices 0,1 and 3 are connected to each other but there isn’t any path from vertices 0,1,3 to vertex 2. \n",
    "\n",
    "'''"
   ]
  },
  {
   "cell_type": "code",
   "execution_count": 209,
   "metadata": {},
   "outputs": [
    {
     "name": "stdout",
     "output_type": "stream",
     "text": [
      "4 4\n",
      "0 1\n",
      "0 3\n",
      "1 2\n",
      "2 3\n",
      "true\n"
     ]
    }
   ],
   "source": [
    "def build_graph(n,e):\n",
    "    edges=[[0 for i in range(n)] for j in range(n)]\n",
    "    for i in range(e):\n",
    "        holder=list(int(i) for i in input().strip().split(' '))\n",
    "        f=holder[0]\n",
    "        s=holder[1]\n",
    "        holder=[]\n",
    "        edges[f][s]=1\n",
    "        edges[s][f]=1\n",
    "    return edges\n",
    "\n",
    "def print_graph(edges,n,sv,visited):\n",
    "    #print(sv)\n",
    "    visited[sv]=True\n",
    "    for i in range(n):\n",
    "        if(i==sv):\n",
    "            continue\n",
    "        if(edges[sv][i]==1):\n",
    "            if(visited[i]):\n",
    "                continue\n",
    "            print_graph(edges,n,i,visited)\n",
    "\n",
    "holder=list(int(i) for i in input().strip().split(' '))\n",
    "n=holder[0]\n",
    "e=holder[1]\n",
    "visited=[False for i in range(n)]    \n",
    "edges=build_graph(n,e) \n",
    "print_graph(edges,n,0,visited) \n",
    "if(False in visited):\n",
    "    print('false')\n",
    "else:\n",
    "    print('true')\n",
    "    "
   ]
  },
  {
   "cell_type": "markdown",
   "metadata": {},
   "source": [
    "# QUESTION: All Connected Components"
   ]
  },
  {
   "cell_type": "code",
   "execution_count": 215,
   "metadata": {
    "collapsed": true
   },
   "outputs": [
    {
     "data": {
      "text/plain": [
       "\"\\nCode : All connected components\\n\\nGiven an undirected graph G(V,E), find and print all the connected components of the given graph G.\\nV is the number of vertices present in graph G and vertices are numbered from 0 to V-1.\\nE is the number of edges present in graph G.\\nYou need to take input in main and create a function which should return all the connected components. And then print them in the main, not inside function.\\nPrint different components in new line. And each component should be printed in increasing order (separated by space). Order of different components doesn't matter.\\nInput Format :\\nLine 1: Two Integers V and E (separated by space)\\nNext 'E' lines, each have two space-separated integers, 'a' and 'b', denoting that there exists an edge between Vertex 'a' and Vertex 'b'.\\nOutput Format :\\nDifferent components in new line\\nConstraints :\\n2 <= V <= 1000\\n1 <= E <= 1000\\nSample Input 1:\\n4 2\\n0 1\\n2 3\\nSample Output 1:\\n0 1 \\n2 3 \\nSample Input 2:\\n4 3\\n0 1\\n1 3 \\n0 3\\nSample Output 2:\\n0 1 3 \\n2\\n\\n\""
      ]
     },
     "execution_count": 215,
     "metadata": {},
     "output_type": "execute_result"
    }
   ],
   "source": [
    "'''\n",
    "Code : All connected components\n",
    "\n",
    "Given an undirected graph G(V,E), find and print all the connected components of the given graph G.\n",
    "V is the number of vertices present in graph G and vertices are numbered from 0 to V-1.\n",
    "E is the number of edges present in graph G.\n",
    "You need to take input in main and create a function which should return all the connected components. And then print them in the main, not inside function.\n",
    "Print different components in new line. And each component should be printed in increasing order (separated by space). Order of different components doesn't matter.\n",
    "Input Format :\n",
    "Line 1: Two Integers V and E (separated by space)\n",
    "Next 'E' lines, each have two space-separated integers, 'a' and 'b', denoting that there exists an edge between Vertex 'a' and Vertex 'b'.\n",
    "Output Format :\n",
    "Different components in new line\n",
    "Constraints :\n",
    "2 <= V <= 1000\n",
    "1 <= E <= 1000\n",
    "Sample Input 1:\n",
    "4 2\n",
    "0 1\n",
    "2 3\n",
    "Sample Output 1:\n",
    "0 1 \n",
    "2 3 \n",
    "Sample Input 2:\n",
    "4 3\n",
    "0 1\n",
    "1 3 \n",
    "0 3\n",
    "Sample Output 2:\n",
    "0 1 3 \n",
    "2\n",
    "\n",
    "'''"
   ]
  },
  {
   "cell_type": "code",
   "execution_count": 272,
   "metadata": {},
   "outputs": [
    {
     "name": "stdout",
     "output_type": "stream",
     "text": [
      "3 3\n",
      "0 1\n",
      "1 2\n",
      "2 0\n",
      "0 1 2 \n"
     ]
    }
   ],
   "source": [
    "final_ans=[]\n",
    "def build_graph(n,e):\n",
    "    edges=[[0 for i in range(n)] for j in range(n)]\n",
    "    for i in range(e):\n",
    "        holder=list(int(i) for i in input().strip().split(' '))\n",
    "        f=holder[0]\n",
    "        s=holder[1]\n",
    "        holder=[]\n",
    "        edges[f][s]=1\n",
    "        edges[s][f]=1\n",
    "    return edges\n",
    "\n",
    "def print_BFS(edges,n,sv,visited,component):\n",
    "    pending_vertices=[]\n",
    "    pending_vertices.append(sv)\n",
    "    visited[sv]=True\n",
    "    while(len(pending_vertices) is not 0):\n",
    "        current_vertex=pending_vertices.pop(0)\n",
    "        #print(current_vertex)\n",
    "        component.append(current_vertex)\n",
    "        for i in range(n):\n",
    "            if(i==current_vertex):\n",
    "                continue\n",
    "            if(edges[current_vertex][i]==1 and not visited[i]):\n",
    "                pending_vertices.append(i)\n",
    "                visited[i]=True\n",
    "    final_ans.append(component)\n",
    "\n",
    "def BFS(edges,n):\n",
    "    visited=[False for i in range(n)]\n",
    "    for i in range(n):\n",
    "        if(visited[i]==False):\n",
    "            component=[]\n",
    "            print_BFS(edges,n,i,visited,component)  \n",
    "            \n",
    "\n",
    "holder=list(int(i) for i in input().strip().split(' '))\n",
    "n=holder[0]\n",
    "e=holder[1]\n",
    "edges=build_graph(n,e) \n",
    "BFS(edges,n)\n",
    "for i in final_ans:\n",
    "    i.sort()#sorting\n",
    "    for j in i:\n",
    "        print(j,end=' ')\n",
    "    print()"
   ]
  },
  {
   "cell_type": "markdown",
   "metadata": {},
   "source": []
  },
  {
   "cell_type": "code",
   "execution_count": 261,
   "metadata": {
    "scrolled": false
   },
   "outputs": [
    {
     "name": "stdout",
     "output_type": "stream",
     "text": [
      "4 4\n",
      "0 1\n",
      "0 3\n",
      "1 2\n",
      "2 3\n",
      "1 3\n",
      "3 0 1 "
     ]
    }
   ],
   "source": [
    "import queue\n",
    "class Graph:\n",
    "    def __init__(self,nVertices):\n",
    "        self.nVertices=nVertices\n",
    "        self.adjMatrix=[[0 for i in range(nVertices)] for j in range(nVertices)]\n",
    "    def addEdge(self,v1,v2):\n",
    "        self.adjMatrix[v1][v2]=1\n",
    "        self.adjMatrix[v2][v1]=1\n",
    "    def removeEdge(self):\n",
    "        if self.containsEdge(v1,v2) is False:\n",
    "            return\n",
    "        self.adjMatrix[v1][v2]=0\n",
    "        self.adjMatrix[v2][v1]=0\n",
    "    def containsEdge(self,v1,v2):\n",
    "        if(self.adjMatrix[v1][v2]>0):\n",
    "            return True\n",
    "        else:\n",
    "            return False\n",
    "    def __str__(self):\n",
    "        return str(self.adjMatrix)\n",
    "    def __getPathDFS(self,sv,ev,visited):\n",
    "        if(sv==ev):\n",
    "            return list([sv])\n",
    "        visited[sv]=True\n",
    "        for i in range(self.nVertices):\n",
    "            if(self.adjMatrix[sv][i]==1 and not visited[i]):\n",
    "                li=self.__getPathDFS(i,ev,visited)\n",
    "                if(li!=None):\n",
    "                    li.append(sv)\n",
    "                    return li\n",
    "        return None\n",
    "    def getPathDFS(self,sv,ev):\n",
    "        visited=[False for i in range(self.nVertices)]\n",
    "        return self.__getPathDFS(sv,ev,visited)\n",
    "li=input().strip().split()\n",
    "V=int(li[0])\n",
    "E=int(li[1])\n",
    "g=Graph(V)\n",
    "for i in range(E):\n",
    "    arr=input().strip().split()\n",
    "    fv=int(arr[0])\n",
    "    sv=int(arr[1])\n",
    "    g.addEdge(fv,sv)\n",
    "li=input().strip().split()\n",
    "sv=int(li[0])\n",
    "ev=int(li[1])\n",
    "li=g.getPathDFS(sv,ev)\n",
    "if(li!=None):\n",
    "    for element in li:\n",
    "        print(element,end=' ')        "
   ]
  },
  {
   "cell_type": "markdown",
   "metadata": {},
   "source": [
    "# QUESTION :Islands"
   ]
  },
  {
   "cell_type": "code",
   "execution_count": 265,
   "metadata": {
    "collapsed": true
   },
   "outputs": [
    {
     "data": {
      "text/plain": [
       "'\\n\\nIslands\\n\\nAn island is a small piece of land surrounded by water . A group of islands is said to be connected if we can reach from any given island to any other island in the same group . Given N islands (numbered from 1 to N) and two lists of size M (u and v) denoting island u[i] is connected to island v[i] and vice versa . Can you count the number of connected groups of islands.\\nConstraints :\\n1<=N<=100\\n1<=M<=(N*(N-1))/2\\n1<=u[i],v[i]<=N\\nInput Format :\\nLine 1 : Two integers N and M\\nLine 2 : List u of size of M\\nLine 3 : List v of size of M\\nOutput Return Format :\\nThe count the number of connected groups of islands\\nSample Input :\\n2 1\\n1\\n2\\nSample Output :\\n1 \\n\\n'"
      ]
     },
     "execution_count": 265,
     "metadata": {},
     "output_type": "execute_result"
    }
   ],
   "source": [
    "'''\n",
    "\n",
    "Islands\n",
    "\n",
    "An island is a small piece of land surrounded by water . A group of islands is said to be connected if we can reach from any given island to any other island in the same group . Given N islands (numbered from 1 to N) and two lists of size M (u and v) denoting island u[i] is connected to island v[i] and vice versa . Can you count the number of connected groups of islands.\n",
    "Constraints :\n",
    "1<=N<=100\n",
    "1<=M<=(N*(N-1))/2\n",
    "1<=u[i],v[i]<=N\n",
    "Input Format :\n",
    "Line 1 : Two integers N and M\n",
    "Line 2 : List u of size of M\n",
    "Line 3 : List v of size of M\n",
    "Output Return Format :\n",
    "The count the number of connected groups of islands\n",
    "Sample Input :\n",
    "2 1\n",
    "1\n",
    "2\n",
    "Sample Output :\n",
    "1 \n",
    "\n",
    "'''"
   ]
  },
  {
   "cell_type": "code",
   "execution_count": 276,
   "metadata": {},
   "outputs": [
    {
     "name": "stdout",
     "output_type": "stream",
     "text": [
      "3 3\n",
      "1 2 3\n",
      "1 2 3\n",
      "3\n"
     ]
    }
   ],
   "source": [
    "final_ans=[]\n",
    "def build_graph(n,e):\n",
    "    edges=[[0 for i in range(n)] for j in range(n)]\n",
    "    u=list(int(i) for i in input().strip().split(' '))\n",
    "    v=list(int(i) for i in input().strip().split(' '))\n",
    "    for i in range(e):\n",
    "        edges[u[i]-1][v[i]-1]=1\n",
    "        edges[v[i]-1][u[i]-1]=1\n",
    "    return edges\n",
    "\n",
    "def print_BFS(edges,n,sv,visited,component):\n",
    "    pending_vertices=[]\n",
    "    pending_vertices.append(sv)\n",
    "    visited[sv]=True\n",
    "    while(len(pending_vertices) is not 0):\n",
    "        current_vertex=pending_vertices.pop(0)\n",
    "        #print(current_vertex)\n",
    "        component.append(current_vertex)\n",
    "        for i in range(n):\n",
    "            if(i==current_vertex):\n",
    "                continue\n",
    "            if(edges[current_vertex][i]==1 and not visited[i]):\n",
    "                pending_vertices.append(i)\n",
    "                visited[i]=True\n",
    "    final_ans.append(component)\n",
    "\n",
    "def BFS(edges,n):\n",
    "    visited=[False for i in range(n)]\n",
    "    for i in range(n):\n",
    "        if(visited[i]==False):\n",
    "            component=[]\n",
    "            print_BFS(edges,n,i,visited,component)  \n",
    "            \n",
    "\n",
    "holder=list(int(i) for i in input().strip().split(' '))\n",
    "n=holder[0]\n",
    "e=holder[1]\n",
    "edges=build_graph(n,e) \n",
    "BFS(edges,n)\n",
    "print(len(final_ans))"
   ]
  },
  {
   "cell_type": "markdown",
   "metadata": {},
   "source": [
    "# QUESTION : Coding Ninjas"
   ]
  },
  {
   "cell_type": "code",
   "execution_count": 284,
   "metadata": {
    "collapsed": true
   },
   "outputs": [
    {
     "data": {
      "text/plain": [
       "'\\n\\nCoding Ninjas\\n\\nGiven a NxM matrix containing Uppercase English Alphabets only. Your task is to tell if there is a path in the given matrix which makes the sentence “CODINGNINJA” .\\nThere is a path from any cell to all its neighbouring cells. A neighbour may share an edge or a corner.\\nInput Format :\\nLine 1 : Two space separated integers N  and M, where N is number of rows and M is number of columns in the matrix.\\nNext N lines : N rows of the matrix. First line of these N line will contain 0th row of matrix, second line will contain 1st row and so on\\nAssume input to be 0-indexed based\\nOutput Format :\\nReturn 1 if there is a path which makes the sentence “CODINGNINJA” else return 0.\\nConstraints :\\n1 <= N <= 100\\n1 <= M <= 100\\nSample Input :\\n2 11\\nCXDXNXNXNXA\\nXOXIXGXIXJX\\nSample Output :\\n1\\n\\n'"
      ]
     },
     "execution_count": 284,
     "metadata": {},
     "output_type": "execute_result"
    }
   ],
   "source": [
    "'''\n",
    "\n",
    "Coding Ninjas\n",
    "\n",
    "Given a NxM matrix containing Uppercase English Alphabets only. Your task is to tell if there is a path in the given matrix which makes the sentence “CODINGNINJA” .\n",
    "There is a path from any cell to all its neighbouring cells. A neighbour may share an edge or a corner.\n",
    "Input Format :\n",
    "Line 1 : Two space separated integers N  and M, where N is number of rows and M is number of columns in the matrix.\n",
    "Next N lines : N rows of the matrix. First line of these N line will contain 0th row of matrix, second line will contain 1st row and so on\n",
    "Assume input to be 0-indexed based\n",
    "Output Format :\n",
    "Return 1 if there is a path which makes the sentence “CODINGNINJA” else return 0.\n",
    "Constraints :\n",
    "1 <= N <= 100\n",
    "1 <= M <= 100\n",
    "Sample Input :\n",
    "2 11\n",
    "CXDXNXNXNXA\n",
    "XOXIXGXIXJX\n",
    "Sample Output :\n",
    "1\n",
    "\n",
    "'''"
   ]
  },
  {
   "cell_type": "code",
   "execution_count": 378,
   "metadata": {},
   "outputs": [],
   "source": [
    "def isValid(x,y,M,N):\n",
    "    return((x>=0 and x<N) and (y>=0 and y<M))\n",
    "     \n",
    "def move_around(x,y,edges,index,visited):\n",
    "    steps=[[-1,-1],[-1,0],[-1,1],[0,-1],[0,1],[1,-1],[1,0],[1,1]]\n",
    "    string='CODINGNINJA'\n",
    "    if(index==11):\n",
    "        return True\n",
    "    found=False\n",
    "    visited[x][y]=True\n",
    "    for i in range(8):\n",
    "        newx=x+steps[i][0]\n",
    "        newy=y+steps[i][1]\n",
    "        if(isValid(newx,newy,M,N) and edges[newx][newy]==string[index] and not visited[newx][newy]):\n",
    "            found=found or move_around(newx,newy,edges,index+1,visited)\n",
    "    visited[x][y]=False\n",
    "    return found\n",
    "\n",
    "def control(M,N,edges,index,visited):\n",
    "    \n",
    "    ans=False\n",
    "    for i in range(N):\n",
    "        for j in range(M):\n",
    "            ans=False\n",
    "            if(edges[i][j]=='C'):\n",
    "                ans=move_around(i,j,edges,1,visited)\n",
    "                \n",
    "                if(ans):\n",
    "                    break\n",
    "        if(ans):\n",
    "            break\n",
    "    return ans      \n",
    "    "
   ]
  },
  {
   "cell_type": "code",
   "execution_count": 379,
   "metadata": {},
   "outputs": [
    {
     "name": "stdout",
     "output_type": "stream",
     "text": [
      "4 4\n",
      "CANI\n",
      "OOJN\n",
      "DDIG\n",
      "JNIN\n",
      "1\n"
     ]
    }
   ],
   "source": [
    "holder=list(int(i) for i in input().strip().split(' '))\n",
    "M=holder[1]\n",
    "N=holder[0]\n",
    "edges=[]\n",
    "index=1\n",
    "for i in range(N):\n",
    "    a=list(i for i in input())\n",
    "    edges.append(a)\n",
    "    a=[]\n",
    "visited=[[False for i in range(M)] for i in range(N)]\n",
    "if(control(M,N,edges,index,visited)):\n",
    "    print(1)\n",
    "else:\n",
    "    print(0)"
   ]
  },
  {
   "cell_type": "markdown",
   "metadata": {},
   "source": [
    "# QUESTION: Connecting the Dots"
   ]
  },
  {
   "cell_type": "code",
   "execution_count": 380,
   "metadata": {
    "collapsed": true
   },
   "outputs": [
    {
     "data": {
      "text/plain": [
       "'\\n\\nConnecting Dots\\n\\nGary has a board of size NxM. Each cell in the board is a coloured dot. There exist only 26 colours denoted by uppercase Latin characters (i.e. A,B,...,Z). Now Gary is getting bore and wants to play a game. The key of this game is to find a cycle that contain dots of same colour. Formally, we call a sequence of dots d1,\\u2009d2,\\u2009...,\\u2009dk a cycle if and only if it meets the following condition:\\n1. These k dots are different: if i\\u2009≠\\u2009j then di is different from dj.\\n2. k is at least 4.\\n3. All dots belong to the same colour.\\n4. For all 1\\u2009≤\\u2009i\\u2009≤\\u2009k\\u2009-\\u20091: di and di\\u2009+\\u20091 are adjacent. Also, dk and d1 should also be adjacent. Cells x and y are called adjacent if they share an edge.\\nSince Gary is colour blind, he wants your help. Your task is to determine if there exists a cycle on the board.\\nAssume input to be 0-indexed based.\\nInput Format :\\nLine 1 : Two integers N and M, the number of rows and columns of the board\\nNext N lines : a string consisting of M characters, expressing colors of dots in each line. Each character is an uppercase Latin letter.\\nOutput Format :\\nReturn 1 if there is a cycle else return 0\\nConstraints :\\n2\\u2009≤\\u2009N,\\u2009M\\u2009≤\\u200950\\nSample Input :\\n3 4\\nAAAA\\nABCA\\nAAAA\\nSample Output :\\n1\\n\\n'"
      ]
     },
     "execution_count": 380,
     "metadata": {},
     "output_type": "execute_result"
    }
   ],
   "source": [
    "'''\n",
    "\n",
    "Connecting Dots\n",
    "\n",
    "Gary has a board of size NxM. Each cell in the board is a coloured dot. There exist only 26 colours denoted by uppercase Latin characters (i.e. A,B,...,Z). Now Gary is getting bore and wants to play a game. The key of this game is to find a cycle that contain dots of same colour. Formally, we call a sequence of dots d1, d2, ..., dk a cycle if and only if it meets the following condition:\n",
    "1. These k dots are different: if i ≠ j then di is different from dj.\n",
    "2. k is at least 4.\n",
    "3. All dots belong to the same colour.\n",
    "4. For all 1 ≤ i ≤ k - 1: di and di + 1 are adjacent. Also, dk and d1 should also be adjacent. Cells x and y are called adjacent if they share an edge.\n",
    "Since Gary is colour blind, he wants your help. Your task is to determine if there exists a cycle on the board.\n",
    "Assume input to be 0-indexed based.\n",
    "Input Format :\n",
    "Line 1 : Two integers N and M, the number of rows and columns of the board\n",
    "Next N lines : a string consisting of M characters, expressing colors of dots in each line. Each character is an uppercase Latin letter.\n",
    "Output Format :\n",
    "Return 1 if there is a cycle else return 0\n",
    "Constraints :\n",
    "2 ≤ N, M ≤ 50\n",
    "Sample Input :\n",
    "3 4\n",
    "AAAA\n",
    "ABCA\n",
    "AAAA\n",
    "Sample Output :\n",
    "1\n",
    "\n",
    "'''"
   ]
  },
  {
   "cell_type": "code",
   "execution_count": 1,
   "metadata": {},
   "outputs": [
    {
     "ename": "SyntaxError",
     "evalue": "invalid syntax (<ipython-input-1-98f8ae017e42>, line 24)",
     "output_type": "error",
     "traceback": [
      "\u001b[0;36m  File \u001b[0;32m\"<ipython-input-1-98f8ae017e42>\"\u001b[0;36m, line \u001b[0;32m24\u001b[0m\n\u001b[0;31m    elif(isValid(N,M,newx,newy) and graph[newx][newy]==alphabet and not visited[newx][newy]):\u001b[0m\n\u001b[0m       ^\u001b[0m\n\u001b[0;31mSyntaxError\u001b[0m\u001b[0;31m:\u001b[0m invalid syntax\n"
     ]
    }
   ],
   "source": [
    "def isValid(N,M,x,y):\n",
    "    return((x>=0 and x<N) and (y>=0 and y<M))\n",
    "\n",
    "def list_maker(graph,N,M):\n",
    "    lst=[]\n",
    "    for i in range(N):\n",
    "        for j in range(M):\n",
    "            if(graph[i][j] in lst ):\n",
    "                continue\n",
    "            else:\n",
    "                lst.append(graph[i][j])\n",
    "    return lst\n",
    "            \n",
    "\n",
    "def solve(graph,N,M,x,y,visited,alphabet):\n",
    "    steps=[[0,1],[1,0],[-1,0],[0,-1]]\n",
    "    if((newx,newy==x,y) and graph[x][y]==alphabet):\n",
    "            return True\n",
    "    found=False\n",
    "    visited[x][y]=True\n",
    "    for i in range(4):\n",
    "        newx=x+steps[i][0]\n",
    "        newy=y+steps[i][1]\n",
    "        elif(isValid(N,M,newx,newy) and graph[newx][newy]==alphabet and not visited[newx][newy]):\n",
    "            found=found or solve(graph,N,M,newx,newy,visited,alphabet)\n",
    "    visited[x][y]=False\n",
    "    return found\n",
    "\n",
    "def handle(N,M,lst,graph,visited):\n",
    "    k=0\n",
    "    ans=False\n",
    "    for i in range(N):\n",
    "        for j in range(M):\n",
    "            ans=False\n",
    "            alphabet=lst[k]\n",
    "            if(graph[i][j]==lst[k]):\n",
    "                ans=solve(graph,N,M,i,j,visited,alphabet)\n",
    "                if(ans):\n",
    "                    break\n",
    "                k+=1\n",
    "        if(ans):\n",
    "            break\n",
    "    return ans"
   ]
  },
  {
   "cell_type": "code",
   "execution_count": 405,
   "metadata": {},
   "outputs": [
    {
     "name": "stdout",
     "output_type": "stream",
     "text": [
      "2 2\n",
      "AA\n",
      "AB\n"
     ]
    },
    {
     "data": {
      "text/plain": [
       "False"
      ]
     },
     "execution_count": 405,
     "metadata": {},
     "output_type": "execute_result"
    }
   ],
   "source": [
    "holder=list(int(i) for i in input().strip().split(' '))\n",
    "M=holder[1]\n",
    "N=holder[0]\n",
    "graph=[]\n",
    "index=1\n",
    "for i in range(N):\n",
    "    a=list(i for i in input())\n",
    "    graph.append(a)\n",
    "    a=[]\n",
    "visited=[[False for i in range(M)] for i in range(N)]\n",
    "visited=[[False for i in range(M)] for j in range(N)]\n",
    "lst=list_maker(graph,N,M)\n",
    "handle(N,M,lst,graph,visited)"
   ]
  },
  {
   "cell_type": "markdown",
   "metadata": {},
   "source": [
    "# QUESTION: Largest Piece"
   ]
  },
  {
   "cell_type": "code",
   "execution_count": 2,
   "metadata": {
    "collapsed": true
   },
   "outputs": [
    {
     "data": {
      "text/plain": [
       "\"\\n\\nLargest Piece\\n\\nIts Gary's birthday today and he has ordered his favourite \\nsquare cake consisting of '0's and '1's . But Gary wants the biggest \\npiece of '1's and no '0's . A piece of cake is defined as a part which \\nconsist of only '1's, and all '1's share an edge with eachother on the \\ncake. Given the size of cake N and the cake , can you find the size \\nof the biggest piece of '1's for Gary ?\\n\\nConstraints :\\n1<=N<=50\\nInput Format :\\nLine 1 : An integer N denoting the size of cake \\nNext N lines : N characters denoting the cake\\nOutput Format :\\nSize of the biggest piece of '1's and no '0's\\nSample Input :\\n2\\n11\\n01\\nSample Output :\\n3\\n\\n\""
      ]
     },
     "execution_count": 2,
     "metadata": {},
     "output_type": "execute_result"
    }
   ],
   "source": [
    "'''\n",
    "\n",
    "Largest Piece\n",
    "\n",
    "Its Gary's birthday today and he has ordered his favourite \n",
    "square cake consisting of '0's and '1's . But Gary wants the biggest \n",
    "piece of '1's and no '0's . A piece of cake is defined as a part which \n",
    "consist of only '1's, and all '1's share an edge with eachother on the \n",
    "cake. Given the size of cake N and the cake , can you find the size \n",
    "of the biggest piece of '1's for Gary ?\n",
    "\n",
    "Constraints :\n",
    "1<=N<=50\n",
    "Input Format :\n",
    "Line 1 : An integer N denoting the size of cake \n",
    "Next N lines : N characters denoting the cake\n",
    "Output Format :\n",
    "Size of the biggest piece of '1's and no '0's\n",
    "Sample Input :\n",
    "2\n",
    "11\n",
    "01\n",
    "Sample Output :\n",
    "3\n",
    "\n",
    "'''"
   ]
  },
  {
   "cell_type": "code",
   "execution_count": 16,
   "metadata": {},
   "outputs": [
    {
     "name": "stdout",
     "output_type": "stream",
     "text": [
      "3\n",
      "111\n",
      "111\n",
      "111\n",
      "0\n"
     ]
    }
   ],
   "source": [
    "def isValid(x,y,N):\n",
    "    return((x>=0 and x<N) and (y>=0 and y<N))\n",
    "    \n",
    "def gary(cake,x,y,visited,N):\n",
    "    steps=[[0,1],[1,0],[-1,0],[0,-1]]\n",
    "    if(visited[x][y]):\n",
    "        return 0\n",
    "    visited[x][y]=True\n",
    "    count=1\n",
    "    for i in range(4):\n",
    "        newx=x+steps[i][0]\n",
    "        newy=y+steps[i][1]\n",
    "        if(isValid(newx,newy,N) and cake[newx][newy]==1):\n",
    "            count+=gary(cake,newx,newy,visited,N)\n",
    "    return count\n",
    "\n",
    "cake=[]\n",
    "N=int(input())\n",
    "visited=[[False for i in range(N)] for j in range(N)]\n",
    "for i in range(N):\n",
    "    cake.append(list(int(i) for i in input()))\n",
    "maxi=0\n",
    "for i in range(N):\n",
    "    for j in range(N):\n",
    "        if(cake[i][j]==1 and not visited):\n",
    "            maxi=max(maxi,gary(cake,i,j,visited,N))\n",
    "print(maxi)"
   ]
  },
  {
   "cell_type": "markdown",
   "metadata": {},
   "source": [
    "# QUESTION : 3 Cycle"
   ]
  },
  {
   "cell_type": "code",
   "execution_count": 1,
   "metadata": {
    "collapsed": true
   },
   "outputs": [
    {
     "data": {
      "text/plain": [
       "\"\\n\\nLargest Piece\\n\\nIts Gary's birthday today and he has ordered his favourite square cake consisting of '0's and '1's . But Gary wants the biggest piece of '1's and no '0's . A piece of cake is defined as a part which consist of only '1's, and all '1's share an edge with eachother on the cake. Given the size of cake N and the cake , can you find the size of the biggest piece of '1's for Gary ?\\nConstraints :\\n1<=N<=50\\nInput Format :\\nLine 1 : An integer N denoting the size of cake \\nNext N lines : N characters denoting the cake\\nOutput Format :\\nSize of the biggest piece of '1's and no '0's\\nSample Input :\\n2\\n11\\n01\\nSample Output :\\n3\\n\\n\""
      ]
     },
     "execution_count": 1,
     "metadata": {},
     "output_type": "execute_result"
    }
   ],
   "source": [
    "'''\n",
    "\n",
    "Largest Piece\n",
    "\n",
    "Its Gary's birthday today and he has ordered his favourite square cake consisting of '0's and '1's . But Gary wants the biggest piece of '1's and no '0's . A piece of cake is defined as a part which consist of only '1's, and all '1's share an edge with eachother on the cake. Given the size of cake N and the cake , can you find the size of the biggest piece of '1's for Gary ?\n",
    "Constraints :\n",
    "1<=N<=50\n",
    "Input Format :\n",
    "Line 1 : An integer N denoting the size of cake \n",
    "Next N lines : N characters denoting the cake\n",
    "Output Format :\n",
    "Size of the biggest piece of '1's and no '0's\n",
    "Sample Input :\n",
    "2\n",
    "11\n",
    "01\n",
    "Sample Output :\n",
    "3\n",
    "\n",
    "'''"
   ]
  },
  {
   "cell_type": "code",
   "execution_count": 51,
   "metadata": {},
   "outputs": [],
   "source": [
    "def three_cycle1(n,edges):\n",
    "    counter=0\n",
    "    for i in range(n):\n",
    "        for j in range(n):\n",
    "            if(edges[i][j]==1):\n",
    "                hold_j=j\n",
    "                for k in range(n):\n",
    "                    if(edges[hold_j][k]==1):\n",
    "                        if(i==k):\n",
    "                            continue\n",
    "                        if(edges[i][k]==1):\n",
    "                            counter+=1\n",
    "    return int(counter/6)    "
   ]
  },
  {
   "cell_type": "code",
   "execution_count": 52,
   "metadata": {},
   "outputs": [
    {
     "name": "stdout",
     "output_type": "stream",
     "text": [
      "3 3\n",
      "1 2 3\n",
      "2 3 1\n",
      "1\n"
     ]
    }
   ],
   "source": [
    "holder=list(int(i) for i in input().strip().split(' '))\n",
    "n=holder[1]\n",
    "edges=build_graph(n,n)\n",
    "print(three_cycle1(n,edges))"
   ]
  },
  {
   "cell_type": "code",
   "execution_count": null,
   "metadata": {},
   "outputs": [],
   "source": []
  }
 ],
 "metadata": {
  "kernelspec": {
   "display_name": "Python 3",
   "language": "python",
   "name": "python3"
  },
  "language_info": {
   "codemirror_mode": {
    "name": "ipython",
    "version": 3
   },
   "file_extension": ".py",
   "mimetype": "text/x-python",
   "name": "python",
   "nbconvert_exporter": "python",
   "pygments_lexer": "ipython3",
   "version": "3.7.6"
  }
 },
 "nbformat": 4,
 "nbformat_minor": 4
}
