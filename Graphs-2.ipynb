{
 "cells": [
  {
   "cell_type": "markdown",
   "metadata": {},
   "source": [
    "# Kruskal's Algorithm"
   ]
  },
  {
   "cell_type": "code",
   "execution_count": 63,
   "metadata": {},
   "outputs": [],
   "source": [
    "class Edge:\n",
    "    def __init__(self,source,destination,weight):\n",
    "        self.source=source\n",
    "        self.destination=destination\n",
    "        self.weight=weight\n",
    "        \n",
    "def caller(n,E):\n",
    "    obj_list=[]\n",
    "    for i in range(E):\n",
    "        holder2=list(int(i) for i in input().strip().split(' '))\n",
    "        s=holder2[0]\n",
    "        d=holder2[1]\n",
    "        w=holder2[2]\n",
    "        holder2=[]\n",
    "        obj_list.append(Edge(s,d,w))\n",
    "    output=kruskals(obj_list,n,E)\n",
    "    for i in range(len(output)):\n",
    "        if(output[i].source<output[i].destination):\n",
    "            print(output[i].source,' ',output[i].destination,' ',output[i].weight)\n",
    "        else:\n",
    "            print(output[i].destination,' ',output[i].source,' ',output[i].weight)\n",
    "        \n",
    "def getParent(v,parent):\n",
    "    if(v==parent[v]):\n",
    "        return v\n",
    "    return getParent(parent[v],parent)\n",
    "    \n",
    "def kruskals(obj_list,n,E):\n",
    "    #Using Union Find Algorithm\n",
    "    obj_list=sorted(obj_list,key=lambda ed:ed.weight)\n",
    "    output=[]\n",
    "    parent=[0 for i in range(n)]\n",
    "    for i in range(n):\n",
    "        parent[i]=i\n",
    "    count=0\n",
    "    i=0\n",
    "    while(count<(n-1)):\n",
    "        currentEdge=obj_list[i]\n",
    "        srcParent=getParent(currentEdge.source,parent)\n",
    "        destParent=getParent(currentEdge.destination,parent)\n",
    "        \n",
    "        if(srcParent!=destParent):\n",
    "            output.append(currentEdge)\n",
    "            count+=1\n",
    "            parent[srcParent]=destParent\n",
    "        i+=1\n",
    "    return output  "
   ]
  },
  {
   "cell_type": "code",
   "execution_count": 64,
   "metadata": {},
   "outputs": [
    {
     "name": "stdout",
     "output_type": "stream",
     "text": [
      "4 4\n",
      "0 1 3\n",
      "0 3 5\n",
      "1 2 1\n",
      "2 3 8\n",
      "1   2   1\n",
      "0   1   3\n",
      "0   3   5\n"
     ]
    }
   ],
   "source": [
    "holder=list(int(i) for i in input().strip().split(' '))\n",
    "V=holder[0]\n",
    "E=holder[1]\n",
    "caller(V,E)\n",
    "    "
   ]
  },
  {
   "cell_type": "markdown",
   "metadata": {},
   "source": [
    "# Prim's Algorithm"
   ]
  },
  {
   "cell_type": "code",
   "execution_count": 88,
   "metadata": {},
   "outputs": [],
   "source": [
    "INT_MAX=999999\n",
    "def getMinVertex(visited,weight,n):\n",
    "    minVertex=-1\n",
    "    for i in range(n):\n",
    "        if(not visited[i] and ((minVertex==-1) or (weight[minVertex]>weight[i]))):\n",
    "            minVertex=i\n",
    "    return minVertex\n",
    "\n",
    "def prims(edges,n):\n",
    "    visited=[False for i in range(n)]\n",
    "    parent=[0 for i in range(n)]\n",
    "    weight=[0 for i in range(n)]\n",
    "    for i in range(n):\n",
    "        weight[i]=INT_MAX\n",
    "    parent[0]=-1\n",
    "    weight[0]=0\n",
    "    for i in range(n-1):\n",
    "        minVertex=getMinVertex(visited,weight,n)\n",
    "        visited[minVertex]=True\n",
    "        for j in range(n):\n",
    "            if(edges[minVertex][j]!=0 and not visited[j]):\n",
    "                if(weight[j]>edges[minVertex][j]):\n",
    "                    weight[j]=edges[minVertex][j]\n",
    "                    parent[j]=minVertex\n",
    "    for i in range(1,n):\n",
    "        if(parent[i]<i):\n",
    "            print(parent[i],' ',i,' ',weight[i])\n",
    "        else:\n",
    "            print(i,' ',parent[i],' ',weight[i])"
   ]
  },
  {
   "cell_type": "code",
   "execution_count": 89,
   "metadata": {},
   "outputs": [
    {
     "name": "stdout",
     "output_type": "stream",
     "text": [
      "4 4\n",
      "0 1 3\n",
      "0 3 5\n",
      "1 2 1\n",
      "2 3 8\n",
      "0   1   3\n",
      "1   2   1\n",
      "0   3   5\n"
     ]
    }
   ],
   "source": [
    "holder=list(int(i) for i in input().strip().split(' '))\n",
    "n=holder[0]\n",
    "e=holder[1]\n",
    "edges=[[0 for i in range(n)] for j in range(n)]      \n",
    "for i in range(e):\n",
    "    holder2=list(int(i) for i in input().strip().split(' '))\n",
    "    v1=holder2[0]\n",
    "    v2=holder2[1]\n",
    "    w=holder2[2]\n",
    "    edges[v1][v2]=w\n",
    "    edges[v2][v1]=w\n",
    "    holder2=[]\n",
    "prims(edges,n)    "
   ]
  },
  {
   "cell_type": "markdown",
   "metadata": {},
   "source": [
    "# Dijkstra's Algorithm"
   ]
  },
  {
   "cell_type": "code",
   "execution_count": 112,
   "metadata": {},
   "outputs": [],
   "source": [
    "INT_MAX=999999\n",
    "def getMinVertex(dist,visited,n):\n",
    "    minVertex=-1\n",
    "    for i in range(n):\n",
    "        if(not visited[i] and (minVertex==-1 or (dist[i]<dist[minVertex]))):\n",
    "            minVertex=i\n",
    "    return minVertex\n",
    "           \n",
    "def dijkstra(edges,n):\n",
    "        visited=[False for i in range(n)]\n",
    "        dist=[INT_MAX for i in range(n)]\n",
    "        dist[0]=0\n",
    "        for i in range(n-1):\n",
    "            minVertex=getMinVertex(dist,visited,n)\n",
    "            visited[minVertex]=True\n",
    "            for j in range(n):\n",
    "                if(edges[minVertex][j] and not visited[j]):\n",
    "                    currD=dist[minVertex]+edges[minVertex][j]\n",
    "                    if(dist[j]>currD):\n",
    "                        dist[j]=currD\n",
    "        for i in range(n):\n",
    "            print(i,' ',dist[i])"
   ]
  },
  {
   "cell_type": "code",
   "execution_count": 114,
   "metadata": {},
   "outputs": [
    {
     "name": "stdout",
     "output_type": "stream",
     "text": [
      "4 4\n",
      "0 1 3\n",
      "0 3 5\n",
      "1 2 1\n",
      "2 3 8\n",
      "0   0\n",
      "1   3\n",
      "2   4\n",
      "3   5\n"
     ]
    }
   ],
   "source": [
    "holder=list(int(i) for i in input().strip().split(' '))\n",
    "n=holder[0]\n",
    "e=holder[1]\n",
    "edges=[[0 for i in range(n)] for j in range(n)]      \n",
    "for i in range(e):\n",
    "    holder2=list(int(i) for i in input().strip().split(' '))\n",
    "    v1=holder2[0]\n",
    "    v2=holder2[1]\n",
    "    w=holder2[2]\n",
    "    edges[v1][v2]=w\n",
    "    edges[v2][v1]=w\n",
    "    holder2=[]\n",
    "dijkstra(edges,n)    "
   ]
  },
  {
   "cell_type": "code",
   "execution_count": null,
   "metadata": {},
   "outputs": [],
   "source": []
  }
 ],
 "metadata": {
  "kernelspec": {
   "display_name": "Python 3",
   "language": "python",
   "name": "python3"
  },
  "language_info": {
   "codemirror_mode": {
    "name": "ipython",
    "version": 3
   },
   "file_extension": ".py",
   "mimetype": "text/x-python",
   "name": "python",
   "nbconvert_exporter": "python",
   "pygments_lexer": "ipython3",
   "version": "3.7.6"
  }
 },
 "nbformat": 4,
 "nbformat_minor": 4
}
