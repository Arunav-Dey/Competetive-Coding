{
 "cells": [
  {
   "cell_type": "markdown",
   "metadata": {},
   "source": [
    "# Fibbonacci Series using Dynamic Programming"
   ]
  },
  {
   "cell_type": "code",
   "execution_count": 815,
   "metadata": {},
   "outputs": [
    {
     "name": "stdout",
     "output_type": "stream",
     "text": [
      "6765\n"
     ]
    }
   ],
   "source": [
    "def fibonacci(n):  \n",
    "      \n",
    "    # Taking 1st two fibonacci nubers as 0 and 1  \n",
    "    FibArray = [0, 1]  \n",
    "      \n",
    "    while len(FibArray) < n + 1:  \n",
    "        FibArray.append(0)  \n",
    "      \n",
    "    if n <= 1:  \n",
    "        return n  \n",
    "    else:  \n",
    "        if FibArray[n - 1] == 0:  \n",
    "            FibArray[n - 1] = fibonacci(n - 1)  \n",
    "  \n",
    "        if FibArray[n - 2] == 0:  \n",
    "            FibArray[n - 2] = fibonacci(n - 2)  \n",
    "              \n",
    "    FibArray[n] = FibArray[n - 2] + FibArray[n - 1]\n",
    "    return FibArray[n]  \n",
    "      \n",
    "print(fibonacci(20))  "
   ]
  },
  {
   "cell_type": "markdown",
   "metadata": {},
   "source": [
    "# Fibbonaci Series Space optimised DP Solution"
   ]
  },
  {
   "cell_type": "code",
   "execution_count": 265,
   "metadata": {},
   "outputs": [
    {
     "name": "stdout",
     "output_type": "stream",
     "text": [
      "280571172992510140037611932413038677189525\n"
     ]
    }
   ],
   "source": [
    "def fibonacci(n): \n",
    "    a = 0\n",
    "    b = 1\n",
    "    if n < 0: \n",
    "        print(\"Incorrect input\") \n",
    "    elif n == 0: \n",
    "        return a \n",
    "    elif n == 1: \n",
    "        return b \n",
    "    else: \n",
    "        for i in range(2,n+1): \n",
    "            c = a + b \n",
    "            a = b \n",
    "            b = c \n",
    "        return b \n",
    "  \n",
    "# Driver Program \n",
    "  \n",
    "print(fibonacci(200)) "
   ]
  },
  {
   "cell_type": "markdown",
   "metadata": {},
   "source": [
    "# Question: AlphaCode using DP "
   ]
  },
  {
   "cell_type": "code",
   "execution_count": 38,
   "metadata": {
    "collapsed": true
   },
   "outputs": [
    {
     "data": {
      "text/plain": [
       "'\\nAlice and Bob need to send secret messages to each other and are discussing ways to encode their messages:\\nAlice: “Let’s just use a very simple code: We’ll assign ‘A’ the code word 1, ‘B’ will be 2, and so on down to ‘Z’ being assigned 26.”\\n\\nBob: “That’s a stupid code, Alice. Suppose I send you the word ‘BEAN’ encoded as 25114. You could decode that in many different ways!”\\n\\nAlice: “Sure you could, but what words would you get? Other than ‘BEAN’, you’d get ‘BEAAD’, ‘YAAD’, ‘YAN’, ‘YKD’ and ‘BEKD’. I think you would be able to figure out the correct decoding. And why would you send me the word ‘BEAN’ anyway?”\\n\\nBob: “OK, maybe that’s a bad example, but I bet you that if you got a string of length 5000 there would be tons of different decodings and with that many you would find at least two different ones that would make sense.”\\n\\nAlice: “How many different decodings?”\\n\\nBob: “Jillions!”\\nFor some reason, Alice is still unconvinced by Bob’s argument, so she requires a program that will determine how many decodings there can be for a given string using her code.\\nInput\\nInput will consist of multiple input sets. Each set will consist of a single line of at most 5000 digits representing a valid encryption (for example, no line will begin with a 0). There will be no spaces between the digits. An input line of ‘0’ will terminate the input and should not be processed.\\nOutput\\nFor each input set, output the number of possible decodings for the input string. Print your answer taking modulo \"10^9+7\"\\nSample Input:\\n25114\\n1111111111\\n3333333333\\n0\\nSample Output:\\n6\\n89\\n1\\n\\n'"
      ]
     },
     "execution_count": 38,
     "metadata": {},
     "output_type": "execute_result"
    }
   ],
   "source": [
    "'''\n",
    "Alice and Bob need to send secret messages to each other and are discussing ways to encode their messages:\n",
    "Alice: “Let’s just use a very simple code: We’ll assign ‘A’ the code word 1, ‘B’ will be 2, and so on down to ‘Z’ being assigned 26.”\n",
    "\n",
    "Bob: “That’s a stupid code, Alice. Suppose I send you the word ‘BEAN’ encoded as 25114. You could decode that in many different ways!”\n",
    "\n",
    "Alice: “Sure you could, but what words would you get? Other than ‘BEAN’, you’d get ‘BEAAD’, ‘YAAD’, ‘YAN’, ‘YKD’ and ‘BEKD’. I think you would be able to figure out the correct decoding. And why would you send me the word ‘BEAN’ anyway?”\n",
    "\n",
    "Bob: “OK, maybe that’s a bad example, but I bet you that if you got a string of length 5000 there would be tons of different decodings and with that many you would find at least two different ones that would make sense.”\n",
    "\n",
    "Alice: “How many different decodings?”\n",
    "\n",
    "Bob: “Jillions!”\n",
    "For some reason, Alice is still unconvinced by Bob’s argument, so she requires a program that will determine how many decodings there can be for a given string using her code.\n",
    "Input\n",
    "Input will consist of multiple input sets. Each set will consist of a single line of at most 5000 digits representing a valid encryption (for example, no line will begin with a 0). There will be no spaces between the digits. An input line of ‘0’ will terminate the input and should not be processed.\n",
    "Output\n",
    "For each input set, output the number of possible decodings for the input string. Print your answer taking modulo \"10^9+7\"\n",
    "Sample Input:\n",
    "25114\n",
    "1111111111\n",
    "3333333333\n",
    "0\n",
    "Sample Output:\n",
    "6\n",
    "89\n",
    "1\n",
    "\n",
    "'''"
   ]
  },
  {
   "cell_type": "code",
   "execution_count": 75,
   "metadata": {},
   "outputs": [
    {
     "name": "stdout",
     "output_type": "stream",
     "text": [
      "6\n"
     ]
    }
   ],
   "source": [
    "def alphaCode(encoded_string,n):\n",
    "    count=0\n",
    "    \n",
    "    if(n==1 or n==0):\n",
    "        return 1\n",
    "    if(encoded_string[n-1]>'0'):\n",
    "        #print(n)\n",
    "        count=alphaCode(encoded_string,n-1)\n",
    "    if(encoded_string[n-2]=='1' or (encoded_string[n-2]=='2' and encoded_string[n-1]<'7')):\n",
    "        count+=alphaCode(encoded_string,n-2)\n",
    "    return count\n",
    "\n",
    "s='25114'\n",
    "print(alphaCode(s,len(s)))\n",
    "    "
   ]
  },
  {
   "cell_type": "markdown",
   "metadata": {},
   "source": [
    "# Question: Longest Increasing Subsequence using DP"
   ]
  },
  {
   "cell_type": "code",
   "execution_count": 125,
   "metadata": {},
   "outputs": [
    {
     "name": "stdout",
     "output_type": "stream",
     "text": [
      "3\n",
      "[1, 2, 3]\n"
     ]
    }
   ],
   "source": [
    "def LongestIncreasingSubsequence(arr,n):\n",
    "    output=[0]*(n)\n",
    "    output[0]=1\n",
    "    for i in range(1,len(arr)):\n",
    "        output[i]=1\n",
    "        for j in range(i-1,-1,-1):\n",
    "            if(arr[j]>arr[i]):\n",
    "                continue\n",
    "            possibleAns=output[j]+1\n",
    "            if(possibleAns>output[i]):\n",
    "                output[i]=possibleAns\n",
    "    return output\n",
    "        \n",
    "inp=[1,2,3]        \n",
    "#print(LongestIncreasingSubsequence(inp,len(inp)))\n",
    "print(max(LongestIncreasingSubsequence(inp,len(inp))))       \n",
    "print((LongestIncreasingSubsequence(inp,len(inp))))       "
   ]
  },
  {
   "cell_type": "markdown",
   "metadata": {},
   "source": [
    "### Subconcept : Find the number of Increasing Subsequences."
   ]
  },
  {
   "cell_type": "code",
   "execution_count": 142,
   "metadata": {},
   "outputs": [],
   "source": [
    "def no_of_increasing_subsequences(arr):\n",
    "    op=[0 for i in range(len(arr))]\n",
    "    op[0]=arr[0]\n",
    "    op[1]=arr[1]\n",
    "    for i in range(2,len(arr)):\n",
    "        sumi=0\n",
    "        for j in range(0,i):\n",
    "            sumi+=op[i]\n",
    "        if(arr[i-1]<arr[i]):\n",
    "            op[i]=1+sumi\n",
    "        else:\n",
    "            op[i]=sumi+arr[i]\n",
    "    return sum(op),op\n",
    "        \n",
    "        \n",
    "        \n",
    "    "
   ]
  },
  {
   "cell_type": "code",
   "execution_count": 143,
   "metadata": {},
   "outputs": [
    {
     "data": {
      "text/plain": [
       "(7, [1, 1, 1, 1, 3])"
      ]
     },
     "execution_count": 143,
     "metadata": {},
     "output_type": "execute_result"
    }
   ],
   "source": [
    "no_of_increasing_subsequences([1,1,2,3,3])"
   ]
  },
  {
   "cell_type": "markdown",
   "metadata": {},
   "source": [
    "# Question: Largest Bitonic Subarray using DP"
   ]
  },
  {
   "cell_type": "code",
   "execution_count": 96,
   "metadata": {
    "collapsed": true
   },
   "outputs": [
    {
     "data": {
      "text/plain": [
       "'\\n\\nYou are given an array of positive integers as input. Write a code to return the length of the largest such subsequence in which the values are arranged first in strictly ascending order and then in strictly descending order.\\nSuch a subsequence is known as bitonic subsequence. A purely increasing or purely decreasing subsequence will also be considered as a bitonic sequence with the other part empty.\\nNote that the elements in bitonic subsequence need not be consecutive in the given array but the order should remain same.\\nInput Format:\\nLine 1 : A positive Integer N, i.e., the size of array\\nLine 2 : N space-separated integers as elements of the array \\nOutput Format:\\nLength of Largest Bitonic subsequence\\nInput Constraints:\\n1<= N <= 100000\\nSample Input 1:\\n6\\n15 20 20 6 4 2\\nSample Output 1:\\n5\\nSample Output 1 Explanation:\\nHere, longest Bitonic subsequence is {15, 20, 6, 4, 2} which has length = 5.\\nSample Input 2:\\n2\\n1 5\\nSample Output 2:\\n2\\nSample Input 3:\\n2\\n5 1\\nSample Output 3:\\n2\\n\\n'"
      ]
     },
     "execution_count": 96,
     "metadata": {},
     "output_type": "execute_result"
    }
   ],
   "source": [
    "'''\n",
    "\n",
    "You are given an array of positive integers as input. Write a code to return the length of the largest such subsequence in which the values are arranged first in strictly ascending order and then in strictly descending order.\n",
    "Such a subsequence is known as bitonic subsequence. A purely increasing or purely decreasing subsequence will also be considered as a bitonic sequence with the other part empty.\n",
    "Note that the elements in bitonic subsequence need not be consecutive in the given array but the order should remain same.\n",
    "Input Format:\n",
    "Line 1 : A positive Integer N, i.e., the size of array\n",
    "Line 2 : N space-separated integers as elements of the array \n",
    "Output Format:\n",
    "Length of Largest Bitonic subsequence\n",
    "Input Constraints:\n",
    "1<= N <= 100000\n",
    "Sample Input 1:\n",
    "6\n",
    "15 20 20 6 4 2\n",
    "Sample Output 1:\n",
    "5\n",
    "Sample Output 1 Explanation:\n",
    "Here, longest Bitonic subsequence is {15, 20, 6, 4, 2} which has length = 5.\n",
    "Sample Input 2:\n",
    "2\n",
    "1 5\n",
    "Sample Output 2:\n",
    "2\n",
    "Sample Input 3:\n",
    "2\n",
    "5 1\n",
    "Sample Output 3:\n",
    "2\n",
    "\n",
    "'''"
   ]
  },
  {
   "cell_type": "code",
   "execution_count": 215,
   "metadata": {},
   "outputs": [
    {
     "name": "stdout",
     "output_type": "stream",
     "text": [
      "LBS 7\n"
     ]
    }
   ],
   "source": [
    "def LongestIncreasingSubsequence(arr,n):\n",
    "    output=[0]*(n)\n",
    "    output[0]=1\n",
    "    for i in range(1,len(arr)):\n",
    "        output[i]=1\n",
    "        for j in range(0,i):\n",
    "            if(arr[j]>arr[i]):\n",
    "                continue\n",
    "            possibleAns=output[j]+1\n",
    "            if(possibleAns>output[i]):\n",
    "                output[i]=possibleAns\n",
    "    return output\n",
    "\n",
    "inp=[0,8,4,12,2,10,6,14,1,9,5,13,3,11,7,15]\n",
    "inp2=[]\n",
    "for i in reversed(inp):\n",
    "    inp2.append(i)\n",
    "\n",
    "LIS=LongestIncreasingSubsequence(inp,len(inp))\n",
    "LDS=LongestIncreasingSubsequence(inp2,len(inp2))\n",
    "LDS2=[]\n",
    "for i in reversed(LDS):\n",
    "    LDS2.append(i)\n",
    "\n",
    "#print(LIS)\n",
    "#print()\n",
    "#print(LDS2)\n",
    "#print()\n",
    "hold=[]\n",
    "for m in range(0,len(LIS)):\n",
    "    hold.append(LIS[m]+LDS2[m]-1)\n",
    "print(\"LBS\",max(hold))\n",
    "#print(hold)\n",
    "    "
   ]
  },
  {
   "cell_type": "markdown",
   "metadata": {},
   "source": [
    "# QUESTION: Staircase Problem using DP"
   ]
  },
  {
   "cell_type": "code",
   "execution_count": 216,
   "metadata": {
    "collapsed": true
   },
   "outputs": [
    {
     "data": {
      "text/plain": [
       "'\\nA child is running up a staircase with n steps and can hop either 1 step, 2 steps or 3 steps at a time. Implement a method to count how many possible ways the child can run up to the stairs. You need to return all possible number of ways.\\nTime complexity of your code should be O(n).\\nInput format :\\nInteger n (No. of steps)\\nConstraints :\\nn <= 70\\nSample Input 1:\\n4\\nSample Output 1:\\n7\\n\\n'"
      ]
     },
     "execution_count": 216,
     "metadata": {},
     "output_type": "execute_result"
    }
   ],
   "source": [
    "'''\n",
    "A child is running up a staircase with n steps and can hop either 1 step, 2 steps or 3 steps at a time. Implement a method to count how many possible ways the child can run up to the stairs. You need to return all possible number of ways.\n",
    "Time complexity of your code should be O(n).\n",
    "Input format :\n",
    "Integer n (No. of steps)\n",
    "Constraints :\n",
    "n <= 70\n",
    "Sample Input 1:\n",
    "4\n",
    "Sample Output 1:\n",
    "7\n",
    "\n",
    "'''"
   ]
  },
  {
   "cell_type": "code",
   "execution_count": 283,
   "metadata": {},
   "outputs": [
    {
     "name": "stdout",
     "output_type": "stream",
     "text": [
      "4\n",
      "7\n"
     ]
    }
   ],
   "source": [
    "def countWaysUtil(n): \n",
    "    res = [0 for x in range(n)]  \n",
    "    res[0],res[1] = 1,1\n",
    "      \n",
    "    for i in range(2,n): \n",
    "        j = 1\n",
    "        while j<=3 and j<=i: \n",
    "            res[i] = res[i] + res[i-j] \n",
    "            j = j + 1 \n",
    "    return res[n-1] \n",
    "  \n",
    "\n",
    "def countWays(s): \n",
    "    return countWaysUtil(s+1) \n",
    "      \n",
    "\n",
    "\n",
    "x=int(input())\n",
    "print(countWays(x))\n"
   ]
  },
  {
   "cell_type": "markdown",
   "metadata": {},
   "source": [
    "# QUESTION: Coin Change Problem using DP"
   ]
  },
  {
   "cell_type": "code",
   "execution_count": 344,
   "metadata": {
    "collapsed": true
   },
   "outputs": [
    {
     "data": {
      "text/plain": [
       "\"\\n\\nCoin Change Problem\\n\\nYou are given an infinite supply of coins of each of denominations D = {D0, D1, D2, D3, ...... Dn-1}. You need to figure out the total number of ways W, in which you can make change for Value V using coins of denominations D.\\nNote : Return 0, if change isn't possible.\\nInput Format\\nLine 1 : Integer n i.e. total number of denominations\\nLine 2 : N integers i.e. n denomination values\\nLine 3 : Value V\\nOutput Format\\nLine 1 :  Number of ways i.e. W\\nConstraints :\\n1<=n<=10\\n1<=V<=1000\\nSample Input 1 :\\n3\\n1 2 3\\n4\\nSample Output\\n4\\nSample Output Explanation :\\nNumber of ways are - 4 total i.e. (1,1,1,1), (1,1, 2), (1, 3) and (2, 2).\\n\\n\""
      ]
     },
     "execution_count": 344,
     "metadata": {},
     "output_type": "execute_result"
    }
   ],
   "source": [
    "'''\n",
    "\n",
    "Coin Change Problem\n",
    "\n",
    "You are given an infinite supply of coins of each of denominations D = {D0, D1, D2, D3, ...... Dn-1}. You need to figure out the total number of ways W, in which you can make change for Value V using coins of denominations D.\n",
    "Note : Return 0, if change isn't possible.\n",
    "Input Format\n",
    "Line 1 : Integer n i.e. total number of denominations\n",
    "Line 2 : N integers i.e. n denomination values\n",
    "Line 3 : Value V\n",
    "Output Format\n",
    "Line 1 :  Number of ways i.e. W\n",
    "Constraints :\n",
    "1<=n<=10\n",
    "1<=V<=1000\n",
    "Sample Input 1 :\n",
    "3\n",
    "1 2 3\n",
    "4\n",
    "Sample Output\n",
    "4\n",
    "Sample Output Explanation :\n",
    "Number of ways are - 4 total i.e. (1,1,1,1), (1,1, 2), (1, 3) and (2, 2).\n",
    "\n",
    "'''"
   ]
  },
  {
   "cell_type": "code",
   "execution_count": 458,
   "metadata": {},
   "outputs": [
    {
     "name": "stdout",
     "output_type": "stream",
     "text": [
      "4\n",
      "2 3 5 10\n",
      "15\n",
      "9\n"
     ]
    }
   ],
   "source": [
    "def coin_change(n,coins):\n",
    "    output=[[0 for i in range(n+1)] for j in range(len(coins))]\n",
    "    for k in range(0,len(coins)):\n",
    "        output[k][0]=1\n",
    "    for h in range(1,n+1):\n",
    "        if(h%coins[0]==0):\n",
    "            output[0][h]=1\n",
    "        else:\n",
    "            output[0][h]=0\n",
    "    \n",
    "    for g in range(1,len(coins)):\n",
    "        for f in range(1,n+1):\n",
    "            if(f<coins[g]):\n",
    "                output[g][f]=output[g-1][f]\n",
    "            else:\n",
    "                output[g][f]=output[g][f-coins[g]]+output[g-1][f]\n",
    "    print(output[len(coins)-1][n])\n",
    "\n",
    "x=int(input())\n",
    "coins=list(int(i) for i in input().strip().split(' '))\n",
    "n=int(input())\n",
    "\n",
    "coin_change(n,coins)\n",
    "\n",
    "\n",
    "                \n",
    "    \n",
    "    "
   ]
  },
  {
   "cell_type": "markdown",
   "metadata": {},
   "source": [
    "# Minimum cost required to reach from one matrix location to another using DP"
   ]
  },
  {
   "cell_type": "code",
   "execution_count": 581,
   "metadata": {},
   "outputs": [],
   "source": [
    "def min_cost(arr,m,n):\n",
    "    dp=[[0 for i in range(n)] for j in range(m)]\n",
    "    dp[m-1][n-1]=arr[m-1][n-1]\n",
    "    for i in range(m-2,-1,-1):\n",
    "        dp[i][n-1]=dp[i+1][n-1]+arr[i][n-1]\n",
    "    for j in range(n-2,-1,-1):\n",
    "        dp[m-1][j]=dp[m-1][j+1]+arr[m-1][j]\n",
    "    for k in range(m-2,-1,-1):\n",
    "        for l in range(n-2,-1,-1):\n",
    "            dp[k][l]=arr[k][l]+min(dp[k+1][l], min(dp[k+1][l+1], dp[k][l + 1]))\n",
    "    retuscreenrn dp[0][0],dp\n",
    "        "
   ]
  },
  {
   "cell_type": "code",
   "execution_count": 582,
   "metadata": {},
   "outputs": [],
   "source": [
    "arr=[[0 for i in range(3)] for j in range(3)]\n",
    "arr[0][0] = 4\n",
    "arr[0][1] = 3\n",
    "arr[0][2] = 2\n",
    "arr[1][0] = 1\n",
    "arr[1][1] = 8\n",
    "arr[1][2] = 3\n",
    "arr[2][0] = 1\n",
    "arr[2][1] = 1\n",
    "arr[2][2] = 8"
   ]
  },
  {
   "cell_type": "code",
   "execution_count": 583,
   "metadata": {},
   "outputs": [
    {
     "data": {
      "text/plain": [
       "[[4, 3, 2], [1, 8, 3], [1, 1, 8]]"
      ]
     },
     "execution_count": 583,
     "metadata": {},
     "output_type": "execute_result"
    }
   ],
   "source": [
    "arr"
   ]
  },
  {
   "cell_type": "code",
   "execution_count": 584,
   "metadata": {},
   "outputs": [
    {
     "data": {
      "text/plain": [
       "(14, [[14, 14, 13], [10, 16, 11], [10, 9, 8]])"
      ]
     },
     "execution_count": 584,
     "metadata": {},
     "output_type": "execute_result"
    }
   ],
   "source": [
    "min_cost(arr,3,3)"
   ]
  },
  {
   "cell_type": "markdown",
   "metadata": {},
   "source": [
    "# QUESTION: Magic Grid Problem using DP"
   ]
  },
  {
   "cell_type": "code",
   "execution_count": 494,
   "metadata": {
    "collapsed": true
   },
   "outputs": [
    {
     "data": {
      "text/plain": [
       "\"\\nMagic Grid Problem\\n\\nYou are given a magrid S ( a magic grid ) having R rows and C columns. Each cell in this magrid has either a Hungarian horntail dragon that our intrepid hero has to defeat, or a flask of magic potion that his teacher Snape has left for him. A dragon at a cell (i,j) takes away |S[i][j]| strength points from him, and a potion at a cell (i,j) increases Harry's strength by S[i][j]. If his strength drops to 0 or less at any point during his journey, Harry dies, and no magical stone can revive him.\\nHarry starts from the top-left corner cell (1,1) and the Sorcerer's Stone is in the bottom-right corner cell (R,C). From a cell (i,j), Harry can only move either one cell down or right i.e., to cell (i+1,j) or cell (i,j+1) and he can not move outside the magrid. Harry has used magic before starting his journey to determine which cell contains what, but lacks the basic simple mathematical skill to determine what minimum strength he needs to start with to collect the Sorcerer's Stone. Please help him once again.\\nInput (STDIN)\\nThe first line contains the number of test cases T. T cases follow. Each test case consists of R C in the first line followed by the description of the grid in R lines, each containing C integers. Rows are numbered 1 to R from top to bottom and columns are numbered 1 to C from left to right. Cells with S[i][j] < 0 contain dragons, others contain magic potions.\\nOutput (STDOUT):\\nOutput T lines, one for each case containing the minimum strength Harry should start with from the cell (1,1) to have a positive strength through out his journey to the cell (R,C).\\nConstraints:\\n1 ≤ T ≤ 5\\n\\n2 ≤ R, C ≤ 500\\n\\n-10^3 ≤ S[i][j] ≤ 10^3\\n\\nS[1][1] = S[R][C] = 0\\nSample Input\\n3\\n2 3\\n0 1 -3\\n1 -2 0\\n2 2\\n0 1\\n2 0\\n3 4\\n0 -2 -3 1\\n-1 4 0 -2\\n1 -2 -3 0\\nSample Output\\n2\\n1\\n2\\n\\n\\n\""
      ]
     },
     "execution_count": 494,
     "metadata": {},
     "output_type": "execute_result"
    }
   ],
   "source": [
    "'''\n",
    "Magic Grid Problem\n",
    "\n",
    "You are given a magrid S ( a magic grid ) having R rows and C columns. Each cell in this magrid has either a Hungarian horntail dragon that our intrepid hero has to defeat, or a flask of magic potion that his teacher Snape has left for him. A dragon at a cell (i,j) takes away |S[i][j]| strength points from him, and a potion at a cell (i,j) increases Harry's strength by S[i][j]. If his strength drops to 0 or less at any point during his journey, Harry dies, and no magical stone can revive him.\n",
    "Harry starts from the top-left corner cell (1,1) and the Sorcerer's Stone is in the bottom-right corner cell (R,C). From a cell (i,j), Harry can only move either one cell down or right i.e., to cell (i+1,j) or cell (i,j+1) and he can not move outside the magrid. Harry has used magic before starting his journey to determine which cell contains what, but lacks the basic simple mathematical skill to determine what minimum strength he needs to start with to collect the Sorcerer's Stone. Please help him once again.\n",
    "Input (STDIN)\n",
    "The first line contains the number of test cases T. T cases follow. Each test case consists of R C in the first line followed by the description of the grid in R lines, each containing C integers. Rows are numbered 1 to R from top to bottom and columns are numbered 1 to C from left to right. Cells with S[i][j] < 0 contain dragons, others contain magic potions.\n",
    "Output (STDOUT):\n",
    "Output T lines, one for each case containing the minimum strength Harry should start with from the cell (1,1) to have a positive strength through out his journey to the cell (R,C).\n",
    "Constraints:\n",
    "1 ≤ T ≤ 5\n",
    "\n",
    "2 ≤ R, C ≤ 500\n",
    "\n",
    "-10^3 ≤ S[i][j] ≤ 10^3\n",
    "\n",
    "S[1][1] = S[R][C] = 0\n",
    "Sample Input\n",
    "3\n",
    "2 3\n",
    "0 1 -3\n",
    "1 -2 0\n",
    "2 2\n",
    "0 1\n",
    "2 0\n",
    "3 4\n",
    "0 -2 -3 1\n",
    "-1 4 0 -2\n",
    "1 -2 -3 0\n",
    "Sample Output\n",
    "2\n",
    "1\n",
    "2\n",
    "\n",
    "\n",
    "'''"
   ]
  },
  {
   "cell_type": "code",
   "execution_count": 586,
   "metadata": {},
   "outputs": [],
   "source": [
    "arr1=[[0 ,1, -3],[1 ,-2 ,0]]"
   ]
  },
  {
   "cell_type": "code",
   "execution_count": 587,
   "metadata": {},
   "outputs": [],
   "source": [
    "arr2=[[0,1],[2,0]]"
   ]
  },
  {
   "cell_type": "code",
   "execution_count": 597,
   "metadata": {},
   "outputs": [],
   "source": [
    "arr3=[[0 ,-2 ,-3 ,1],\n",
    "      [-1 ,4 ,0 ,-2],\n",
    "      [1 ,-2 ,-3, 0]]\n"
   ]
  },
  {
   "cell_type": "code",
   "execution_count": 632,
   "metadata": {},
   "outputs": [],
   "source": [
    "def magrid(arr,m,n):\n",
    "    dp=[[0 for i in range(n)] for j in range(m)]\n",
    "    dp[m-1][n-1]=1\n",
    "    dp[m-2][n-1]=1\n",
    "    dp[m-1][n-2]=1\n",
    "    \n",
    "    for i in range(m-2,-1,-1):\n",
    "        dp[i][n-1]=max(1,dp[i+1][n-1]-arr[i+1][n-1])\n",
    "    for j in range(n-2,-1,-1):\n",
    "        dp[m-1][j]=max(1,dp[m-1][j+1]-arr[m-1][j+1])\n",
    "    for k in range(m-2,-1,-1):\n",
    "        for l in range(n-2,-1,-1):\n",
    "            dp[k][l]=max(1,min(dp[k+1][l]-arr[k+1][l],dp[k][l+1]-arr[k][l+1]))\n",
    "    return dp[0][0]"
   ]
  },
  {
   "cell_type": "code",
   "execution_count": 633,
   "metadata": {},
   "outputs": [
    {
     "data": {
      "text/plain": [
       "2"
      ]
     },
     "execution_count": 633,
     "metadata": {},
     "output_type": "execute_result"
    }
   ],
   "source": [
    "magrid(arr1,2,3)"
   ]
  },
  {
   "cell_type": "code",
   "execution_count": 634,
   "metadata": {},
   "outputs": [
    {
     "data": {
      "text/plain": [
       "1"
      ]
     },
     "execution_count": 634,
     "metadata": {},
     "output_type": "execute_result"
    }
   ],
   "source": [
    "magrid(arr2,2,2)"
   ]
  },
  {
   "cell_type": "code",
   "execution_count": 635,
   "metadata": {},
   "outputs": [
    {
     "data": {
      "text/plain": [
       "2"
      ]
     },
     "execution_count": 635,
     "metadata": {},
     "output_type": "execute_result"
    }
   ],
   "source": [
    "magrid(arr3,3,4)"
   ]
  },
  {
   "cell_type": "markdown",
   "metadata": {},
   "source": [
    "# Question: Maximum Sum Rectangle using DP"
   ]
  },
  {
   "cell_type": "code",
   "execution_count": 636,
   "metadata": {
    "collapsed": true
   },
   "outputs": [
    {
     "data": {
      "text/plain": [
       "'\\n\\nMaximum Sum Rectangle\\n\\nGiven a 2D array, find the maximum sum rectangle in it. In other words find maximum sum over all rectangles in the matrix.\\nInput\\nFirst line contains 2 numbers n and m denoting number of rows and number of columns. Next n lines contain m space separated integers denoting elements of matrix nxm.\\nOutput\\nOutput a single integer, maximum sum rectangle.\\nConstraints\\n1<=n,m<=100\\nSample Input\\n4 5\\n1 2 -1 -4 -20\\n-8 -3 4 2 1\\n3 8 10 1 3\\n-4 -1 1 7 -6\\nSample Output\\n29\\n\\n'"
      ]
     },
     "execution_count": 636,
     "metadata": {},
     "output_type": "execute_result"
    }
   ],
   "source": [
    "'''\n",
    "\n",
    "Maximum Sum Rectangle\n",
    "\n",
    "Given a 2D array, find the maximum sum rectangle in it. In other words find maximum sum over all rectangles in the matrix.\n",
    "Input\n",
    "First line contains 2 numbers n and m denoting number of rows and number of columns. Next n lines contain m space separated integers denoting elements of matrix nxm.\n",
    "Output\n",
    "Output a single integer, maximum sum rectangle.\n",
    "Constraints\n",
    "1<=n,m<=100\n",
    "Sample Input\n",
    "4 5\n",
    "1 2 -1 -4 -20\n",
    "-8 -3 4 2 1\n",
    "3 8 10 1 3\n",
    "-4 -1 1 7 -6\n",
    "Sample Output\n",
    "29\n",
    "\n",
    "'''"
   ]
  },
  {
   "cell_type": "markdown",
   "metadata": {},
   "source": [
    "### Kadane's Algorithm:"
   ]
  },
  {
   "cell_type": "code",
   "execution_count": 637,
   "metadata": {},
   "outputs": [],
   "source": [
    "#For finding maximum sum subarray in an array."
   ]
  },
  {
   "cell_type": "code",
   "execution_count": 771,
   "metadata": {},
   "outputs": [],
   "source": [
    "def max_sum_subarray(arr):\n",
    "    best_sum=0\n",
    "    start=0\n",
    "    finish=0\n",
    "    current_sum=0\n",
    "    for i in range(0,len(arr)):\n",
    "        current_sum+=arr[i]\n",
    "        if(best_sum<current_sum):\n",
    "            best_sum=current_sum\n",
    "            finish=i\n",
    "            \n",
    "        if(current_sum<0):\n",
    "            current_sum=0\n",
    "            start=i+1\n",
    "    return start,finish,best_sum   "
   ]
  },
  {
   "cell_type": "code",
   "execution_count": 772,
   "metadata": {},
   "outputs": [
    {
     "data": {
      "text/plain": [
       "(0, 4, 29)"
      ]
     },
     "execution_count": 772,
     "metadata": {},
     "output_type": "execute_result"
    }
   ],
   "source": [
    "max_sum_subarray([3,3,9,9,5])"
   ]
  },
  {
   "cell_type": "code",
   "execution_count": 742,
   "metadata": {},
   "outputs": [],
   "source": [
    "def max_sum_rectangle(arr,m,n):\n",
    "    aux_arr=[0 for i in range(m)]\n",
    "    left=0\n",
    "    right=0\n",
    "    current_sum=0\n",
    "    max_sum=0\n",
    "    max_left=0\n",
    "    max_right=0\n",
    "    max_up=0\n",
    "    max_down=0\n",
    "    up=0\n",
    "    down=0\n",
    "    max_sum=current_sum\n",
    "    for k in range(n):\n",
    "        left=k\n",
    "        aux_arr=[0]*n\n",
    "        for i in range(k,n):\n",
    "            right=i\n",
    "            for j in range(m):\n",
    "\n",
    "                aux_arr[j]+=arr[j][i]\n",
    "            up,down,current_sum=max_sum_subarray(aux_arr)\n",
    "\n",
    "            if(current_sum>max_sum):\n",
    "                max_sum=current_sum\n",
    "                max_up=up\n",
    "                max_right=right\n",
    "                max_down=down\n",
    "                max_left=left\n",
    "    return max_up,max_down,max_right,max_left,max_sum\n",
    "        \n",
    "            "
   ]
  },
  {
   "cell_type": "code",
   "execution_count": 743,
   "metadata": {},
   "outputs": [],
   "source": [
    "arr=[[1 ,2 ,-1 ,-4 ,-20],\n",
    "    [-8, -3 ,4, 2, 1],\n",
    "    [3 ,8 ,10 ,1 ,3],\n",
    "    [-4, -1, 1, 7 ,-6]]\n",
    "\n",
    "arr2=[[2,1,-3,-4,5],\n",
    "      [0,6,3,4,1],\n",
    "      [2,-2,-1,4,-5],\n",
    "      [-3,3,1,0,3]]\n",
    "            \n",
    "        \n",
    "    "
   ]
  },
  {
   "cell_type": "code",
   "execution_count": 744,
   "metadata": {},
   "outputs": [
    {
     "data": {
      "text/plain": [
       "(1, 3, 3, 1, 29)"
      ]
     },
     "execution_count": 744,
     "metadata": {},
     "output_type": "execute_result"
    }
   ],
   "source": [
    "max_sum_rectangle(arr,4,5)"
   ]
  },
  {
   "cell_type": "markdown",
   "metadata": {},
   "source": [
    "# QUESTION: Construct the Array using DP"
   ]
  },
  {
   "cell_type": "code",
   "execution_count": 750,
   "metadata": {},
   "outputs": [
    {
     "name": "stdout",
     "output_type": "stream",
     "text": [
      "https://www.hackerrank.com/challenges/construct-the-array/problem\n"
     ]
    }
   ],
   "source": [
    "'''\n",
    "Question Link:\n",
    "'''\n",
    "print('https://www.hackerrank.com/challenges/construct-the-array/problem')\n",
    "\n"
   ]
  },
  {
   "cell_type": "code",
   "execution_count": 767,
   "metadata": {},
   "outputs": [],
   "source": [
    "def construct_array(n,k,x):\n",
    "    one_count=1\n",
    "    non_one_count=0\n",
    "    \n",
    "    for i in range(1,n):\n",
    "        prev_one_count=one_count\n",
    "        one_count=(non_one_count*(k-1))%1000000007\n",
    "        non_one_count=(prev_one_count+((non_one_count)*(k-2))%1000000007)%1000000007\n",
    "    if(x==1):\n",
    "        return one_count\n",
    "    else:\n",
    "        return non_one_count\n",
    "        "
   ]
  },
  {
   "cell_type": "code",
   "execution_count": 816,
   "metadata": {},
   "outputs": [
    {
     "data": {
      "text/plain": [
       "3"
      ]
     },
     "execution_count": 816,
     "metadata": {},
     "output_type": "execute_result"
    }
   ],
   "source": [
    "construct_array(4,3,2)"
   ]
  },
  {
   "cell_type": "markdown",
   "metadata": {},
   "source": [
    "# QUESTION: Sam and Substrings using DP"
   ]
  },
  {
   "cell_type": "code",
   "execution_count": 822,
   "metadata": {},
   "outputs": [
    {
     "name": "stdout",
     "output_type": "stream",
     "text": [
      "https://www.hackerrank.com/challenges/sam-and-substrings/problem\n"
     ]
    }
   ],
   "source": [
    "'''\n",
    "QUESTION LINK:\n",
    "'''\n",
    "print(\"https://www.hackerrank.com/challenges/sam-and-substrings/problem\")"
   ]
  },
  {
   "cell_type": "code",
   "execution_count": 837,
   "metadata": {},
   "outputs": [],
   "source": [
    "def sum_of_substrings(s):\n",
    "    total_sum=int(s[0])\n",
    "    previous=int(s[0])\n",
    "    for i in range(1,len(s)):\n",
    "        previous=previous*10+int(s[i])*(i+1)\n",
    "        previous=previous%100000007\n",
    "        total_sum=(total_sum+previous)%100000007\n",
    "    return total_sum\n",
    "\n",
    "    "
   ]
  },
  {
   "cell_type": "code",
   "execution_count": 838,
   "metadata": {},
   "outputs": [
    {
     "data": {
      "text/plain": [
       "1670"
      ]
     },
     "execution_count": 838,
     "metadata": {},
     "output_type": "execute_result"
    }
   ],
   "source": [
    "sum_of_substrings('1234')"
   ]
  },
  {
   "cell_type": "markdown",
   "metadata": {},
   "source": [
    "# QUESTION: Loot Houses "
   ]
  },
  {
   "cell_type": "code",
   "execution_count": 839,
   "metadata": {
    "collapsed": true
   },
   "outputs": [
    {
     "data": {
      "text/plain": [
       "'\\nLoot Houses\\n\\nA thief wants to loot houses. He knows the amount of money in each house. He cannot loot two consecutive houses. Find the maximum amount of money he can loot.\\nInput Format\\nLine 1 : An integer N \\nLine 2 : N spaced integers denoting money in each house\\nOutput Format\\n Line 1 : Maximum amount of money looted\\nInput Constraints\\n1 <= n <= 10^4\\n1 <= A[i] < 10^4\\nSample Input :\\n6\\n5 5 10 100 10 5\\nSample Output 1 :\\n110\\n\\n'"
      ]
     },
     "execution_count": 839,
     "metadata": {},
     "output_type": "execute_result"
    }
   ],
   "source": [
    "'''\n",
    "Loot Houses\n",
    "\n",
    "A thief wants to loot houses. He knows the amount of money in each house. He cannot loot two consecutive houses. Find the maximum amount of money he can loot.\n",
    "Input Format\n",
    "Line 1 : An integer N \n",
    "Line 2 : N spaced integers denoting money in each house\n",
    "Output Format\n",
    " Line 1 : Maximum amount of money looted\n",
    "Input Constraints\n",
    "1 <= n <= 10^4\n",
    "1 <= A[i] < 10^4\n",
    "Sample Input :\n",
    "6\n",
    "5 5 10 100 10 5\n",
    "Sample Output 1 :\n",
    "110\n",
    "\n",
    "'''"
   ]
  },
  {
   "cell_type": "code",
   "execution_count": 846,
   "metadata": {},
   "outputs": [],
   "source": [
    "def loot_houses(arr,n):\n",
    "    dp=[0 for i in range(n)]\n",
    "    dp[0]=arr[0]\n",
    "    dp[1]=max(arr[1],arr[0])\n",
    "    for i in range(len(arr)):\n",
    "        dp[i]=max((arr[i]+dp[i-2]),dp[i-1])\n",
    "    return dp[n-1]\n",
    "    \n",
    "    "
   ]
  },
  {
   "cell_type": "code",
   "execution_count": 847,
   "metadata": {},
   "outputs": [
    {
     "name": "stdout",
     "output_type": "stream",
     "text": [
      "6\n",
      "5 5 10 100 10 5\n"
     ]
    },
    {
     "data": {
      "text/plain": [
       "110"
      ]
     },
     "execution_count": 847,
     "metadata": {},
     "output_type": "execute_result"
    }
   ],
   "source": [
    "x=int(input())\n",
    "arr=list(int(i) for i in input().strip().split(' '))\n",
    "\n",
    "loot_houses(arr,x)"
   ]
  },
  {
   "cell_type": "markdown",
   "metadata": {},
   "source": [
    "# QUESTION: Maximum Square Matrix With All Zeros"
   ]
  },
  {
   "cell_type": "code",
   "execution_count": 848,
   "metadata": {
    "collapsed": true
   },
   "outputs": [
    {
     "data": {
      "text/plain": [
       "'\\nMaximum Square Matrix With All Zeros\\n\\nGiven a n*m matrix which contains only 0s and 1s, find out the size of maximum square sub-matrix with all 0s. You need to return the size of square with all 0s.\\nInput format :\\nLine 1 : n and m (space separated positive integers)\\nNext n lines : m elements of each row (separated by space).\\nOutput Format:\\nLine 1 : Size of maximum square sub-matrix\\nSample Input :\\n3 3\\n1 1 0\\n1 1 1\\n1 1 1\\nSample Output :\\n1\\n'"
      ]
     },
     "execution_count": 848,
     "metadata": {},
     "output_type": "execute_result"
    }
   ],
   "source": [
    "'''\n",
    "Maximum Square Matrix With All Zeros\n",
    "\n",
    "Given a n*m matrix which contains only 0s and 1s, find out the size of maximum square sub-matrix with all 0s. You need to return the size of square with all 0s.\n",
    "Input format :\n",
    "Line 1 : n and m (space separated positive integers)\n",
    "Next n lines : m elements of each row (separated by space).\n",
    "Output Format:\n",
    "Line 1 : Size of maximum square sub-matrix\n",
    "Sample Input :\n",
    "3 3\n",
    "1 1 0\n",
    "1 1 1\n",
    "1 1 1\n",
    "Sample Output :\n",
    "1\n",
    "'''"
   ]
  },
  {
   "cell_type": "code",
   "execution_count": 930,
   "metadata": {},
   "outputs": [
    {
     "name": "stdout",
     "output_type": "stream",
     "text": [
      "2 3\n",
      "1 0 0\n",
      "1 1 0\n"
     ]
    },
    {
     "data": {
      "text/plain": [
       "1"
      ]
     },
     "execution_count": 930,
     "metadata": {},
     "output_type": "execute_result"
    }
   ],
   "source": [
    "def max_square_submatrix(arr,m,n):\n",
    "    maxi=0\n",
    "    dp=[[0 for i in range(n)] for j in range(m)]\n",
    "    for i in range(m):\n",
    "        if(arr[i][0]==0):\n",
    "            dp[i][0]=1\n",
    "            maxi=1\n",
    "        else:\n",
    "            dp[i][0]=0\n",
    "    for j in range(n):\n",
    "        if(arr[0][j]==0):\n",
    "            dp[0][j]=1\n",
    "            maxi=1\n",
    "        else:\n",
    "            dp[0][j]=0\n",
    "    for a in range(1,m):\n",
    "        for b in range(1,n):\n",
    "            if(arr[a][b]==1):\n",
    "                dp[a][b]=0\n",
    "            else:\n",
    "                dp[a][b]=1+min(dp[a-1][b],min(dp[a][b-1],dp[a-1][b-1]))\n",
    "                if(dp[a][b]>maxi):\n",
    "                    maxi=dp[a][b]\n",
    "    return maxi\n",
    "v=list(int(i) for i in input().strip().split(' '))\n",
    "m=v[0]\n",
    "n=v[1]\n",
    "arr2=[]\n",
    "for i in range(m):\n",
    "    np=list(int(i) for i in input().strip().split(' '))\n",
    "    arr2.append(np)\n",
    "    np=[]\n",
    "max_square_submatrix(arr2,m,n)\n",
    "\n",
    "    \n",
    "            "
   ]
  },
  {
   "cell_type": "markdown",
   "metadata": {},
   "source": [
    "# QUESTION: Minimum Number of Chocolates"
   ]
  },
  {
   "cell_type": "code",
   "execution_count": 866,
   "metadata": {},
   "outputs": [
    {
     "name": "stdout",
     "output_type": "stream",
     "text": [
      "4\n",
      "1 4 4 6\n"
     ]
    },
    {
     "data": {
      "text/plain": [
       "6"
      ]
     },
     "execution_count": 866,
     "metadata": {},
     "output_type": "execute_result"
    }
   ],
   "source": [
    "def min_chocolates(arr,n):\n",
    "    dp=[0 for i in range(n)]\n",
    "    dp[0]=1\n",
    "    for i in range(n):\n",
    "        if(arr[i]>arr[i-1]):\n",
    "            dp[i]=dp[i-1]+1\n",
    "        else:\n",
    "            dp[i]=1\n",
    "    for j in range(n-2,-1,-1):\n",
    "        if((arr[j]>arr[j+1]) and (dp[j]<=dp[j+1])):\n",
    "            dp[j]=dp[j+1]+1\n",
    "        else:\n",
    "            continue\n",
    "    return sum(dp)\n",
    "            \n",
    "x=int(input())\n",
    "arr=list(int(i) for i in input().strip().split(' '))\n",
    "min_chocolates(arr,x)"
   ]
  },
  {
   "cell_type": "markdown",
   "metadata": {},
   "source": [
    "# QUESTION: Count unique BSTs with nodes from 1 to n using DP "
   ]
  },
  {
   "cell_type": "code",
   "execution_count": 957,
   "metadata": {},
   "outputs": [
    {
     "name": "stdout",
     "output_type": "stream",
     "text": [
      "43\n",
      "4616923\n"
     ]
    }
   ],
   "source": [
    "def count_bst(n):\n",
    "    dp=[0 for i in range(n+1)]\n",
    "    dp[0]=1\n",
    "    dp[1]=1\n",
    "    for j in range(2,n+1):\n",
    "        for k in range(j):\n",
    "            dp[j]+=(dp[k]*dp[j-k-1])%1000000007 #Catalan Number\n",
    "    return dp[n]%1000000007\n",
    "n=int(input())\n",
    "print(count_bst(n))"
   ]
  },
  {
   "cell_type": "markdown",
   "metadata": {},
   "source": [
    "# QUESTION: Boredom"
   ]
  },
  {
   "cell_type": "code",
   "execution_count": 958,
   "metadata": {
    "collapsed": true
   },
   "outputs": [
    {
     "data": {
      "text/plain": [
       "'\\nBoredom\\n\\nGary is bored and wants to play an interesting but tough game . So he figured out a new board game called \"destroy the neighbours\" . In this game there are N integers on a board. In one move, he can pick any integer x from the board and then all the integers with value x+1 or x-1 gets destroyed .This move will give him x points.\\nHe plays the game until the board becomes empty . But as he want show this game to his friend Steven, he wants to learn techniques to maximise the points to show off . Can you help Gary in finding out the maximum points he receive grab from the game ?\\nInput Format :\\nLine 1 : Integer N \\nLine 2 : A list of N integers\\nOutput Format :\\nMaximum points Gary can recieve from the Game setup\\nConstraints :\\n1<=N<=10^5\\n1<=A[i]<=1000\\nSample Input :\\n2\\n1 2\\nSample Output :\\n2\\n'"
      ]
     },
     "execution_count": 958,
     "metadata": {},
     "output_type": "execute_result"
    }
   ],
   "source": [
    "'''\n",
    "Boredom\n",
    "\n",
    "Gary is bored and wants to play an interesting but tough game . So he figured out a new board game called \"destroy the neighbours\" . In this game there are N integers on a board. In one move, he can pick any integer x from the board and then all the integers with value x+1 or x-1 gets destroyed .This move will give him x points.\n",
    "He plays the game until the board becomes empty . But as he want show this game to his friend Steven, he wants to learn techniques to maximise the points to show off . Can you help Gary in finding out the maximum points he receive grab from the game ?\n",
    "Input Format :\n",
    "Line 1 : Integer N \n",
    "Line 2 : A list of N integers\n",
    "Output Format :\n",
    "Maximum points Gary can recieve from the Game setup\n",
    "Constraints :\n",
    "1<=N<=10^5\n",
    "1<=A[i]<=1000\n",
    "Sample Input :\n",
    "2\n",
    "1 2\n",
    "Sample Output :\n",
    "2\n",
    "'''\n"
   ]
  },
  {
   "cell_type": "code",
   "execution_count": 55,
   "metadata": {},
   "outputs": [
    {
     "name": "stdout",
     "output_type": "stream",
     "text": [
      "10\n",
      "1 8 97 6 5 6 4 3 8 9\n",
      "130\n"
     ]
    }
   ],
   "source": [
    "def boredom(arr,n):\n",
    "    aux=[0 for i in range(1002)]\n",
    "    for j in range(n):\n",
    "        aux[arr[j]]=aux[arr[j]]+1\n",
    "    dp=[0 for i in range(1002)]\n",
    "    dp[1]=aux[1]                                                                                  \n",
    "    for k in range(2,1001):\n",
    "        dp[k]=max(dp[k-1],dp[k-2]+k*aux[k])\n",
    "    return dp[1000]\n",
    "x=int(input())\n",
    "arr=list(int(i) for i in input().strip().split(' '))\n",
    "print(boredom(arr,x))"
   ]
  },
  {
   "cell_type": "markdown",
   "metadata": {},
   "source": [
    "# QUESTION: Minimum Count"
   ]
  },
  {
   "cell_type": "code",
   "execution_count": 1,
   "metadata": {
    "collapsed": true
   },
   "outputs": [
    {
     "data": {
      "text/plain": [
       "'\\nMinimum Count\\n\\nGiven an integer N, find and return the count of minimum numbers, sum of whose squares is equal to N.\\nThat is, if N is 4, then we can represent it as : {1^2 + 1^2 + 1^2 + 1^2} and {2^2}. Output will be 1, as 1 is the minimum count of numbers required.\\nNote : x^y represents x raise to the power y.\\nInput Format :\\nInteger N\\nOutput Format :\\nRequired minimum count\\nConstraints :\\n1 <= N <= 1000\\nSample Input 1 :\\n12\\nSample Output 1 :\\n3\\nSample Output 1 Explanation :\\n12 can be represented as :\\n1^1 + 1^1 + 1^1 + 1^1 + 1^1 + 1^1 + 1^1 + 1^1 + 1^1 + 1^1 + 1^1 + 1^1\\n1^1 + 1^1 + 1^1 + 1^1 + 1^1 + 1^1 + 1^1 + 1^1 + 2^2\\n1^1 + 1^1 + 1^1 + 1^1 + 2^2 + 2^2\\n2^2 + 2^2 + 2^2\\nAs we can see, the output should be 3.\\nSample Input 2 :\\n9\\nSample Output 2 :\\n1\\n\\n'"
      ]
     },
     "execution_count": 1,
     "metadata": {},
     "output_type": "execute_result"
    }
   ],
   "source": [
    "'''\n",
    "Minimum Count\n",
    "\n",
    "Given an integer N, find and return the count of minimum numbers, sum of whose squares is equal to N.\n",
    "That is, if N is 4, then we can represent it as : {1^2 + 1^2 + 1^2 + 1^2} and {2^2}. Output will be 1, as 1 is the minimum count of numbers required.\n",
    "Note : x^y represents x raise to the power y.\n",
    "Input Format :\n",
    "Integer N\n",
    "Output Format :\n",
    "Required minimum count\n",
    "Constraints :\n",
    "1 <= N <= 1000\n",
    "Sample Input 1 :\n",
    "12\n",
    "Sample Output 1 :\n",
    "3\n",
    "Sample Output 1 Explanation :\n",
    "12 can be represented as :\n",
    "1^1 + 1^1 + 1^1 + 1^1 + 1^1 + 1^1 + 1^1 + 1^1 + 1^1 + 1^1 + 1^1 + 1^1\n",
    "1^1 + 1^1 + 1^1 + 1^1 + 1^1 + 1^1 + 1^1 + 1^1 + 2^2\n",
    "1^1 + 1^1 + 1^1 + 1^1 + 2^2 + 2^2\n",
    "2^2 + 2^2 + 2^2\n",
    "As we can see, the output should be 3.\n",
    "Sample Input 2 :\n",
    "9\n",
    "Sample Output 2 :\n",
    "1\n",
    "\n",
    "'''"
   ]
  },
  {
   "cell_type": "markdown",
   "metadata": {},
   "source": [
    "### Sub Concept: Minimum Coins required to make a particular Sum with the given Denominations using DP"
   ]
  },
  {
   "cell_type": "code",
   "execution_count": 89,
   "metadata": {},
   "outputs": [],
   "source": [
    "def min_coins_reqd(coins,n):\n",
    "    dp=[[0 for i in range(n+1)] for j in range(len(coins))]\n",
    "    #Filling Base Cases\n",
    "    for i in range(len(coins)):\n",
    "        dp[i][0]=0\n",
    "    for i in range(1,n+1):\n",
    "        if(coins[0]%i==0):\n",
    "            dp[0][i]=int(coins[0]/i)\n",
    "        else:\n",
    "            dp[0][i]=i\n",
    "    for i in range(1,len(coins)):\n",
    "        for j in range(1,n+1):\n",
    "            if(j>=coins[i]):\n",
    "                dp[i][j]=min(dp[i-1][j],1+dp[i][j-coins[i]])\n",
    "            else:\n",
    "                dp[i][j]=dp[i-1][j]\n",
    "    return dp"
   ]
  },
  {
   "cell_type": "code",
   "execution_count": 90,
   "metadata": {},
   "outputs": [
    {
     "data": {
      "text/plain": [
       "[[0, 1, 2, 3, 4, 5, 6, 7, 8, 9, 10, 11, 12],\n",
       " [0, 1, 2, 3, 1, 2, 3, 4, 2, 3, 4, 5, 3],\n",
       " [0, 1, 2, 3, 1, 2, 3, 4, 2, 1, 2, 3, 3]]"
      ]
     },
     "execution_count": 90,
     "metadata": {},
     "output_type": "execute_result"
    }
   ],
   "source": [
    "min_coins_reqd([1,4,9],12)"
   ]
  },
  {
   "cell_type": "code",
   "execution_count": 94,
   "metadata": {},
   "outputs": [
    {
     "name": "stdout",
     "output_type": "stream",
     "text": [
      "9\n",
      "1\n"
     ]
    }
   ],
   "source": [
    "def min_count(n):\n",
    "    sqt=int(n**(1/2))\n",
    "    options=[]\n",
    "    options.append(1)\n",
    "    for i in range(2,sqt+1):\n",
    "        options.append(i**2)\n",
    "    dp=[[0 for i in range(n+1)] for j in range(len(options))]\n",
    "    #Filling Base Cases\n",
    "    for i in range(len(options)):\n",
    "        dp[i][0]=0\n",
    "    for i in range(1,n+1):\n",
    "        if(options[0]%i==0):\n",
    "            dp[0][i]=int(options[0]/i)\n",
    "        else:\n",
    "            dp[0][i]=i\n",
    "    for i in range(1,len(options)):\n",
    "        for j in range(1,n+1):\n",
    "            if(j>=options[i]):\n",
    "                dp[i][j]=min(dp[i-1][j],1+dp[i][j-options[i]])\n",
    "            else:\n",
    "                dp[i][j]=dp[i-1][j]\n",
    "    return dp[len(options)-1][n]\n",
    "    \n",
    "x=int(input())\n",
    "print(min_count(x))\n",
    "        "
   ]
  },
  {
   "cell_type": "code",
   "execution_count": 102,
   "metadata": {},
   "outputs": [
    {
     "data": {
      "text/plain": [
       "'6.234230'"
      ]
     },
     "execution_count": 102,
     "metadata": {},
     "output_type": "execute_result"
    }
   ],
   "source": [
    "\"{0:.6f}\".format(6.23423)"
   ]
  },
  {
   "cell_type": "markdown",
   "metadata": {},
   "source": [
    "# QUESTION: Vanya and GCD"
   ]
  },
  {
   "cell_type": "code",
   "execution_count": 156,
   "metadata": {
    "collapsed": true
   },
   "outputs": [
    {
     "data": {
      "text/plain": [
       "'\\n\\nVanya and GCD\\n\\nVanya has been studying all day long about sequences and other Complex Mathematical Terms. She thinks she has now become really good at it. So, her friend Vasya decides to test her knowledge and keeps the following challenge it front of her:\\nVanya has been given an integer array A of size N. Now, she needs to find the number of increasing sub-sequences of this array with length ≥1 and GCD=1. A sub-sequence of an array is obtained by deleting some (or none) elements and maintaining the relative order of the rest of the elements. As the answer may be large, print it Modulo 109+7\\nShe finds this task really easy, and thinks that you can do it too. Can you?\\nInput Format:\\nThe first line contains a single integer N denoting size of array A. The next line contains N space separated integers denoting the elements of array A\\nOutput Format:\\nPrint the required answer Modulo 10^9+7 on a single line.\\nConstraints:\\n1≤N≤500\\n\\n1≤A[i]≤100\\nSample Input\\n3\\n1 2 3\\nSample Output\\n5\\n\\n'"
      ]
     },
     "execution_count": 156,
     "metadata": {},
     "output_type": "execute_result"
    }
   ],
   "source": [
    "'''\n",
    "\n",
    "Vanya and GCD\n",
    "\n",
    "Vanya has been studying all day long about sequences and other Complex Mathematical Terms. She thinks she has now become really good at it. So, her friend Vasya decides to test her knowledge and keeps the following challenge it front of her:\n",
    "Vanya has been given an integer array A of size N. Now, she needs to find the number of increasing sub-sequences of this array with length ≥1 and GCD=1. A sub-sequence of an array is obtained by deleting some (or none) elements and maintaining the relative order of the rest of the elements. As the answer may be large, print it Modulo 109+7\n",
    "She finds this task really easy, and thinks that you can do it too. Can you?\n",
    "Input Format:\n",
    "The first line contains a single integer N denoting size of array A. The next line contains N space separated integers denoting the elements of array A\n",
    "Output Format:\n",
    "Print the required answer Modulo 10^9+7 on a single line.\n",
    "Constraints:\n",
    "1≤N≤500\n",
    "\n",
    "1≤A[i]≤100\n",
    "Sample Input\n",
    "3\n",
    "1 2 3\n",
    "Sample Output\n",
    "5\n",
    "\n",
    "'''"
   ]
  },
  {
   "cell_type": "code",
   "execution_count": null,
   "metadata": {},
   "outputs": [],
   "source": []
  },
  {
   "cell_type": "markdown",
   "metadata": {},
   "source": [
    "# QUESTION: Jon Snow and his favourite number"
   ]
  },
  {
   "cell_type": "code",
   "execution_count": 157,
   "metadata": {
    "collapsed": true
   },
   "outputs": [
    {
     "data": {
      "text/plain": [
       "\"\\n\\nJon Snow and his favourite number\\n\\nJon Snow now has to fight with White Walkers. He has n rangers, each of which has his own strength. Also Jon Snow has his favourite number x. Each ranger can fight with a white walker only if the strength of the white walker equals his strength. He however thinks that his rangers are weak and need to improve. Jon now thinks that if he takes the bitwise XOR of strengths of some of rangers with his favourite number x, he might get soldiers of high strength. So, he decided to do the following operation k times:\\nArrange all the rangers in a straight line in the order of increasing strengths.\\nTake the bitwise XOR of the strength of each alternate ranger with x and update it's strength.\\nSuppose, Jon has 5 rangers with strengths [9,\\u20097,\\u200911,\\u200915,\\u20095] and he performs the operation 1 time with x\\u2009=\\u20092. He first arranges them in the order of their strengths, [5,\\u20097,\\u20099,\\u200911,\\u200915]. Then he does the following:\\nThe strength of first ranger is updated to 5 xor 2, i.e. 7.\\nThe strength of second ranger remains the same, i.e. 7.\\nThe strength of third ranger is updated to 9 xor 2, i.e. 11.\\nThe strength of fourth ranger remains the same, i.e. 11.\\nThe strength of fifth ranger is updated to 15 xor 2, i.e. 13.\\nThe new strengths of the 5 rangers are [7,\\u20097,\\u200911,\\u200911,\\u200913]\\nNow, Jon wants to know the maximum and minimum strength of the rangers after performing the above operations k times. He wants your help for this task. Can you help him?\\nInput\\nFirst line consists of three integers n, k, x (1\\u2009≤\\u2009n\\u2009≤\\u200910^5, 0\\u2009≤\\u2009k\\u2009≤\\u200910^5, 0\\u2009≤\\u2009x\\u2009≤\\u200910^3) — number of rangers Jon has, the number of times Jon will carry out the operation and Jon's favourite number respectively.\\n\\nSecond line consists of n integers representing the strengths of the rangers a1,\\u2009a2,\\u2009...,\\u2009an (0\\u2009≤\\u2009ai\\u2009≤\\u200910^3).\\nOutput\\nOutput two integers, the maximum and the minimum strength of the rangers after performing the operation k times.\\nSample Input\\n5 1 2\\n9 7 11 15 5\\nSample Output\\n13 7\\n\\n\""
      ]
     },
     "execution_count": 157,
     "metadata": {},
     "output_type": "execute_result"
    }
   ],
   "source": [
    "'''\n",
    "\n",
    "Jon Snow and his favourite number\n",
    "\n",
    "Jon Snow now has to fight with White Walkers. He has n rangers, each of which has his own strength. Also Jon Snow has his favourite number x. Each ranger can fight with a white walker only if the strength of the white walker equals his strength. He however thinks that his rangers are weak and need to improve. Jon now thinks that if he takes the bitwise XOR of strengths of some of rangers with his favourite number x, he might get soldiers of high strength. So, he decided to do the following operation k times:\n",
    "Arrange all the rangers in a straight line in the order of increasing strengths.\n",
    "Take the bitwise XOR of the strength of each alternate ranger with x and update it's strength.\n",
    "Suppose, Jon has 5 rangers with strengths [9, 7, 11, 15, 5] and he performs the operation 1 time with x = 2. He first arranges them in the order of their strengths, [5, 7, 9, 11, 15]. Then he does the following:\n",
    "The strength of first ranger is updated to 5 xor 2, i.e. 7.\n",
    "The strength of second ranger remains the same, i.e. 7.\n",
    "The strength of third ranger is updated to 9 xor 2, i.e. 11.\n",
    "The strength of fourth ranger remains the same, i.e. 11.\n",
    "The strength of fifth ranger is updated to 15 xor 2, i.e. 13.\n",
    "The new strengths of the 5 rangers are [7, 7, 11, 11, 13]\n",
    "Now, Jon wants to know the maximum and minimum strength of the rangers after performing the above operations k times. He wants your help for this task. Can you help him?\n",
    "Input\n",
    "First line consists of three integers n, k, x (1 ≤ n ≤ 10^5, 0 ≤ k ≤ 10^5, 0 ≤ x ≤ 10^3) — number of rangers Jon has, the number of times Jon will carry out the operation and Jon's favourite number respectively.\n",
    "\n",
    "Second line consists of n integers representing the strengths of the rangers a1, a2, ..., an (0 ≤ ai ≤ 10^3).\n",
    "Output\n",
    "Output two integers, the maximum and the minimum strength of the rangers after performing the operation k times.\n",
    "Sample Input\n",
    "5 1 2\n",
    "9 7 11 15 5\n",
    "Sample Output\n",
    "13 7\n",
    "\n",
    "'''"
   ]
  },
  {
   "cell_type": "code",
   "execution_count": 176,
   "metadata": {},
   "outputs": [
    {
     "name": "stdout",
     "output_type": "stream",
     "text": [
      "5 1 2\n",
      "9 7 11 15 5\n",
      "13  7\n"
     ]
    }
   ],
   "source": [
    "def jsahfn(n,k,x,arr):\n",
    "    #maxi=min(max(arr)*2,1023)\n",
    "    freq=[[0 for i in range(1025)] for j in range(2)]\n",
    "    maxi=0\n",
    "    for i in range(n):\n",
    "        maxi=max(maxi,arr[i])\n",
    "        maxi=max(maxi,arr[i]^x)\n",
    "        freq[0][arr[i]]+=1\n",
    "        freq[1][arr[i]]+=1\n",
    "    maxi=min(maxi*2,1023)\n",
    "    for n in range(k):\n",
    "        c=0\n",
    "        for i in range(maxi+1):\n",
    "           # if(freq[0][i]==0):continue\n",
    "            if(c%2==0):\n",
    "                p=int((freq[0][i]+1)/2)\n",
    "                freq[1][i^x]+=p\n",
    "                freq[1][i]-=p\n",
    "            else:\n",
    "                p=int((freq[0][i])/2)\n",
    "                freq[1][i^x]+=p\n",
    "                freq[1][i]-=p\n",
    "            c+=freq[0][i]\n",
    "        for m in range(maxi+1):\n",
    "            freq[0][m]=freq[1][m]\n",
    "    for g in range(maxi,-1,-1):\n",
    "        if(freq[0][g]>0):break\n",
    "    #print(j,end=' ')\n",
    "    for f in range(0,maxi+1):\n",
    "        if(freq[0][f]>0):break\n",
    "    #print(j)\n",
    "    return (g,f)\n",
    "h=list(int(i) for i in input().strip().split(' '))\n",
    "n,k,x=h[0],h[1],h[2]\n",
    "arr=list(int(i) for i in input().strip().split(' '))\n",
    "a,b=jsahfn(n,k,x,arr)\n",
    "print(a,\"\" ,b)\n"
   ]
  },
  {
   "cell_type": "markdown",
   "metadata": {},
   "source": [
    "# QUESTION: Roy and Coin Boxes"
   ]
  },
  {
   "cell_type": "code",
   "execution_count": 182,
   "metadata": {
    "collapsed": true
   },
   "outputs": [
    {
     "data": {
      "text/plain": [
       "'\\n\\nRoy and Coin Boxes\\n\\nRoy has N coin boxes numbered from 1 to N.\\nEvery day he selects two indices [L,R] and adds 1 coin to each coin box starting from L to R (both inclusive).\\nHe does this for M number of days.\\n\\nAfter M days, Roy has a query: How many coin boxes have atleast X coins.\\nHe has Q such queries.\\nInput\\nFirst line contains N - number of coin boxes.\\nSecond line contains M - number of days. Each of the next M lines consists of two space separated integers L and R. Followed by integer Q - number of queries.\\nEach of next Q lines contain a single integer X.a\\nOutput\\nFor each query output the result in a new line.\\nConstraints\\n1 ≤ N ≤ 1000000\\n\\n1 ≤ M ≤ 1000000\\n\\n1 ≤ L ≤ R ≤ N\\n\\n1 ≤ Q ≤ 1000000\\n\\n1 ≤ X ≤ N\\nSample Input\\n7\\n4\\n1 3\\n2 5\\n1 2\\n5 6\\n4\\n1\\n7\\n4\\n2\\nSample Output\\n6\\n0\\n0\\n4\\n\\n'"
      ]
     },
     "execution_count": 182,
     "metadata": {},
     "output_type": "execute_result"
    }
   ],
   "source": [
    "'''\n",
    "\n",
    "Roy and Coin Boxes\n",
    "\n",
    "Roy has N coin boxes numbered from 1 to N.\n",
    "Every day he selects two indices [L,R] and adds 1 coin to each coin box starting from L to R (both inclusive).\n",
    "He does this for M number of days.\n",
    "\n",
    "After M days, Roy has a query: How many coin boxes have atleast X coins.\n",
    "He has Q such queries.\n",
    "Input\n",
    "First line contains N - number of coin boxes.\n",
    "Second line contains M - number of days. Each of the next M lines consists of two space separated integers L and R. Followed by integer Q - number of queries.\n",
    "Each of next Q lines contain a single integer X.a\n",
    "Output\n",
    "For each query output the result in a new line.\n",
    "Constraints\n",
    "1 ≤ N ≤ 1000000\n",
    "\n",
    "1 ≤ M ≤ 1000000\n",
    "\n",
    "1 ≤ L ≤ R ≤ N\n",
    "\n",
    "1 ≤ Q ≤ 1000000\n",
    "\n",
    "1 ≤ X ≤ N\n",
    "Sample Input\n",
    "7\n",
    "4\n",
    "1 3\n",
    "2 5\n",
    "1 2\n",
    "5 6\n",
    "4\n",
    "1\n",
    "7\n",
    "4\n",
    "2\n",
    "Sample Output\n",
    "6\n",
    "0\n",
    "0\n",
    "4\n",
    "\n",
    "'''"
   ]
  },
  {
   "cell_type": "code",
   "execution_count": 16,
   "metadata": {},
   "outputs": [
    {
     "name": "stdout",
     "output_type": "stream",
     "text": [
      "7\n",
      "4\n",
      "1 3\n",
      "2 5\n",
      "1 2\n",
      "5 6\n",
      "4\n",
      "1\n",
      "7\n",
      "4\n",
      "2\n",
      "6\n",
      "0\n",
      "0\n",
      "4\n"
     ]
    }
   ],
   "source": [
    "def roy_and_coin_boxes(N,arr):\n",
    "    sumi=0\n",
    "    c=0\n",
    "    start=[0 for i in range(N+1)]\n",
    "    end=[0 for i in range(N+1)]\n",
    "    aux1=[0 for i in range(N+1)]\n",
    "    aux2=[0 for i in range(N+1)]\n",
    "    aux3=[0 for i in range(N+1)]\n",
    "    for i in range(len(arr)):\n",
    "        s,e=arr[i]\n",
    "        start[s]+=1\n",
    "        end[e]+=1\n",
    "    #print(\"start\",start)\n",
    "    #print(\"ENd\",end)\n",
    "        \n",
    "    \n",
    "    for i in range(1,N+1):\n",
    "        \n",
    "        c+=start[i]\n",
    "        aux1[i]=c\n",
    "        c-=end[i]\n",
    "    for j in range(1,N+1):\n",
    "        aux2[aux1[j]]+=1\n",
    "    for k in range(N-1,0,-1):\n",
    "        aux2[k]=aux2[k]+aux2[k+1]\n",
    "    #print(aux1)\n",
    "    #print(aux2)\n",
    "    \n",
    "    return aux2\n",
    "\n",
    "N=int(input())\n",
    "M=int(input())\n",
    "inp=[]\n",
    "for i in range(M):\n",
    "    holder=list(int(i) for i in input().strip().split(' '))\n",
    "    s=holder[0]\n",
    "    e=holder[1]\n",
    "    holder=[]\n",
    "    inp.append((s,e))\n",
    "Q=int(input())\n",
    "queries_ans=[]\n",
    "man=roy_and_coin_boxes(N,inp)\n",
    "for j in range(Q):\n",
    "    b=int(input())\n",
    "    queries_ans.append(man[b])\n",
    "for i in queries_ans:\n",
    "    print(i)\n",
    "    \n",
    "    \n",
    "        \n",
    "        "
   ]
  },
  {
   "cell_type": "markdown",
   "metadata": {},
   "source": [
    "# QUESTION: Angry Children"
   ]
  },
  {
   "cell_type": "code",
   "execution_count": 17,
   "metadata": {
    "collapsed": true
   },
   "outputs": [
    {
     "data": {
      "text/plain": [
       "'\\n\\nAngry Children\\n\\nBill Gates is on one of his philanthropic journeys to a village in Utopia. He has N packets of candies and would like to distribute one packet to each of the K children in the village (each packet may contain different number of candies). To avoid a fight between the children, he would like to pick K out of N packets such that the unfairness is minimized.\\nSuppose the K packets have (x1, x2, x3,....xk) candies in them, where xi denotes the number of candies in the ith packet, then we define unfairness as\\nunfairness=0;\\nfor(i=0;i<n;i++)\\nfor(j=0;j<n;j++)\\n  unfairness+=abs(xi-xj)\\nabs(x) denotes absolute value of x.\\nInput Format\\nThe first line contains an integer N.\\nThe second line contains an integer K.\\nN lines follow each integer containing the candy in the ith packet.\\nOutput Format\\nA single integer which will be minimum unfairness.\\nConstraints\\n2<=N<=10^5\\n\\n2<=K<=N\\n\\n0<= number of candies in each packet <=10^9\\nSample Input\\n7\\n3\\n10\\n100\\n300\\n200\\n1000\\n20\\n30\\nSample Output\\n40\\nExplanation\\nBill Gates will choose packets having 10, 20 and 30 candies.So unfairness will be |10-20| + |20-30| + |10-30| = 40. We can verify that it will be minimum in this way.\\n\\n'"
      ]
     },
     "execution_count": 17,
     "metadata": {},
     "output_type": "execute_result"
    }
   ],
   "source": [
    "  '''\n",
    "  \n",
    "Angry Children\n",
    "\n",
    "Bill Gates is on one of his philanthropic journeys to a village in Utopia. He has N packets of candies and would like to distribute one packet to each of the K children in the village (each packet may contain different number of candies). To avoid a fight between the children, he would like to pick K out of N packets such that the unfairness is minimized.\n",
    "Suppose the K packets have (x1, x2, x3,....xk) candies in them, where xi denotes the number of candies in the ith packet, then we define unfairness as\n",
    "unfairness=0;\n",
    "for(i=0;i<n;i++)\n",
    "for(j=0;j<n;j++)\n",
    "    unfairness+=abs(xi-xj)\n",
    "abs(x) denotes absolute value of x.\n",
    "Input Format\n",
    "The first line contains an integer N.\n",
    "The second line contains an integer K.\n",
    "N lines follow each integer containing the candy in the ith packet.\n",
    "Output Format\n",
    "A single integer which will be minimum unfairness.\n",
    "Constraints\n",
    "2<=N<=10^5\n",
    "\n",
    "2<=K<=N\n",
    "\n",
    "0<= number of candies in each packet <=10^9\n",
    "Sample Input\n",
    "7\n",
    "3\n",
    "10\n",
    "100\n",
    "300\n",
    "200\n",
    "1000\n",
    "20\n",
    "30\n",
    "Sample Output\n",
    "40\n",
    "Explanation\n",
    "Bill Gates will choose packets having 10, 20 and 30 candies.So unfairness will be |10-20| + |20-30| + |10-30| = 40. We can verify that it will be minimum in this way.\n",
    "  \n",
    "  '''"
   ]
  },
  {
   "cell_type": "code",
   "execution_count": 23,
   "metadata": {},
   "outputs": [],
   "source": [
    " def angry_children(n,k,arr):\n",
    "    arr.sort()\n",
    "    dp=[0 for i in range(n+1)]\n",
    "    c=0\n",
    "    ans=-1\n",
    "    dp[0]=0\n",
    "    j=0\n",
    "    for i in range(n):\n",
    "        dp[i+1]=dp[i]+arr[i]\n",
    "    for v in range(k):\n",
    "        c+=arr[v]*(2*v+1)\n",
    "    while(j+k<=n):\n",
    "        print(j+k)\n",
    "        z=c-k*(dp[k+j]-dp[j])\n",
    "        if(ans==-1):\n",
    "            ans=z\n",
    "        else:\n",
    "            ans=min(z,ans)\n",
    "        if(j+k<n):\n",
    "            c=c-2*(dp[k+j]-dp[j+1])-arr[j]+(2*k-1)*arr[j+k]\n",
    "        j+=1\n",
    "    return ans\n",
    "        \n",
    "        "
   ]
  },
  {
   "cell_type": "code",
   "execution_count": 22,
   "metadata": {},
   "outputs": [
    {
     "name": "stdout",
     "output_type": "stream",
     "text": [
      "7\n",
      "3\n",
      "10\n",
      "100\n",
      "300\n",
      "200\n",
      "1000\n",
      "20\n",
      "30\n",
      "3\n",
      "4\n",
      "5\n",
      "6\n",
      "7\n",
      "40\n"
     ]
    }
   ],
   "source": [
    "n=int(input())\n",
    "k=int(input())\n",
    "arr=[]\n",
    "for i in range(n):\n",
    "    arr.append(int(input()))\n",
    "print(angry_children(n,k,arr))"
   ]
  },
  {
   "cell_type": "code",
   "execution_count": null,
   "metadata": {},
   "outputs": [],
   "source": []
  },
  {
   "cell_type": "code",
   "execution_count": null,
   "metadata": {},
   "outputs": [],
   "source": []
  }
 ],
 "metadata": {
  "kernelspec": {
   "display_name": "Python 3",
   "language": "python",
   "name": "python3"
  },
  "language_info": {
   "codemirror_mode": {
    "name": "ipython",
    "version": 3
   },
   "file_extension": ".py",
   "mimetype": "text/x-python",
   "name": "python",
   "nbconvert_exporter": "python",
   "pygments_lexer": "ipython3",
   "version": "3.7.6"
  }
 },
 "nbformat": 4,
 "nbformat_minor": 4
}
